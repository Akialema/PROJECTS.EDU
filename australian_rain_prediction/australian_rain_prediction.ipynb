{
 "cells": [
  {
   "cell_type": "markdown",
   "metadata": {},
   "source": [
    "<center><span style='font-size: 25px;'>ПРЕДСКАЗАНИЕ ДОЖДЯ В АВСТРАЛИИ</span></center>"
   ]
  },
  {
   "cell_type": "markdown",
   "metadata": {},
   "source": [
    "<img src='data/pics/descr_1.png' width='70%' style='display:block; margin:auto;' />\n",
    "<img src='data/pics/descr_2.png' width='70%' style='display:block; margin:auto;' />\n",
    "<br />\n",
    "<img src='data/pics/descr_3.png' width='70%' style='display:block; margin:auto;' />"
   ]
  },
  {
   "cell_type": "markdown",
   "metadata": {},
   "source": [
    "<h2 id='contents'>Оглавляшка:</h2>\n",
    "\n",
    "0. [Загружаемые библиотеки](#libs)\n",
    "\n",
    "<center><span style=\"font-size:25px;\">\n",
    "\n",
    "Практика `Random Forest`</span></center> \n",
    "\n",
    "1. [Загрузка данных](#intro)\n",
    "2. [Небольшой feature ingeneering](#featureengineering) удаление пропусков, извлечение месяца из даты и кодирование столбцов\n",
    "3. [Разбиение выборки на train и test](#trainttestsplit) + доудаление пропусков\n",
    "4. [Бутстреп реализованный вручную](#ex_4_7)\n",
    "5. [Логистическая регрессия без параметров](#ex_4_8)\n",
    "6. [DecisionTreeClassifier через GridSearch](#ex_4_9)\n",
    "7. [RandomForest](#ex_4_10) n_estimators=100\n",
    "8. [RandomForest через GridSearch](#ex_4_11)\n",
    "9. [Feature importances для модели GridSearch](#ex_4_12)"
   ]
  },
  {
   "cell_type": "markdown",
   "metadata": {},
   "source": [
    "## Загружаемые библиотеки <a id='libs'></a>"
   ]
  },
  {
   "cell_type": "code",
   "execution_count": 1,
   "metadata": {},
   "outputs": [],
   "source": [
    "from data.functions_akialema import *\n",
    "\n",
    "import numpy as np\n",
    "import pandas as pd\n",
    "import seaborn as sns\n",
    "import matplotlib.pyplot as plt\n",
    "\n",
    "from sklearn.model_selection import train_test_split\n",
    "from sklearn.linear_model import LogisticRegression\n",
    "from sklearn.tree import DecisionTreeClassifier\n",
    "from sklearn.ensemble import RandomForestClassifier\n",
    "\n",
    "from sklearn.metrics import roc_auc_score\n",
    "\n",
    "from sklearn.model_selection import GridSearchCV\n",
    "\n",
    "plt.style.use('seaborn-v0_8') #стиль отрисовки seaborn\n",
    "%matplotlib inline"
   ]
  },
  {
   "cell_type": "markdown",
   "metadata": {},
   "source": [
    "## Загрузка данных <a id='intro'></a>"
   ]
  },
  {
   "cell_type": "code",
   "execution_count": 2,
   "metadata": {},
   "outputs": [
    {
     "name": "stdout",
     "output_type": "stream",
     "text": [
      "memory usage: 80.1 MB\n"
     ]
    },
    {
     "data": {
      "text/html": [
       "<table border=\"1\" class=\"dataframe\">\n",
       "  <thead>\n",
       "    <tr style=\"text-align: right;\">\n",
       "      <th></th>\n",
       "      <th>column</th>\n",
       "      <th>num of unique vals</th>\n",
       "      <th>type</th>\n",
       "      <th>mode</th>\n",
       "      <th>number of entries</th>\n",
       "      <th>NaN vals</th>\n",
       "      <th>number of dublics</th>\n",
       "      <th>describe</th>\n",
       "    </tr>\n",
       "  </thead>\n",
       "  <tbody>\n",
       "    <tr>\n",
       "      <th>0</th>\n",
       "      <td>RainToday</td>\n",
       "      <td>2</td>\n",
       "      <td>object</td>\n",
       "      <td>No</td>\n",
       "      <td>145460</td>\n",
       "      <td>3261</td>\n",
       "      <td>0</td>\n",
       "      <td>see type column</td>\n",
       "    </tr>\n",
       "    <tr>\n",
       "      <th>1</th>\n",
       "      <td>RainTomorrow</td>\n",
       "      <td>2</td>\n",
       "      <td>object</td>\n",
       "      <td>No</td>\n",
       "      <td>145460</td>\n",
       "      <td>3267</td>\n",
       "      <td>0</td>\n",
       "      <td>see type column</td>\n",
       "    </tr>\n",
       "    <tr>\n",
       "      <th>2</th>\n",
       "      <td>Cloud3pm</td>\n",
       "      <td>10</td>\n",
       "      <td>float64</td>\n",
       "      <td>7.0</td>\n",
       "      <td>145460</td>\n",
       "      <td>59358</td>\n",
       "      <td>0</td>\n",
       "      <td style=\"text-align: left;\">min...:     0.00<br style=\"text-align: left;\">max..:     9.00<br style=\"text-align: left;\">mean:    4.51<br style=\"text-align: left;\">std....:     2.72</td>\n",
       "    </tr>\n",
       "    <tr>\n",
       "      <th>3</th>\n",
       "      <td>Cloud9am</td>\n",
       "      <td>10</td>\n",
       "      <td>float64</td>\n",
       "      <td>7.0</td>\n",
       "      <td>145460</td>\n",
       "      <td>55888</td>\n",
       "      <td>0</td>\n",
       "      <td style=\"text-align: left;\">min...:     0.00<br style=\"text-align: left;\">max..:     9.00<br style=\"text-align: left;\">mean:    4.45<br style=\"text-align: left;\">std....:     2.89</td>\n",
       "    </tr>\n",
       "    <tr>\n",
       "      <th>4</th>\n",
       "      <td>WindDir3pm</td>\n",
       "      <td>16</td>\n",
       "      <td>object</td>\n",
       "      <td>SE</td>\n",
       "      <td>145460</td>\n",
       "      <td>4228</td>\n",
       "      <td>0</td>\n",
       "      <td>see type column</td>\n",
       "    </tr>\n",
       "    <tr>\n",
       "      <th>5</th>\n",
       "      <td>WindDir9am</td>\n",
       "      <td>16</td>\n",
       "      <td>object</td>\n",
       "      <td>N</td>\n",
       "      <td>145460</td>\n",
       "      <td>10566</td>\n",
       "      <td>0</td>\n",
       "      <td>see type column</td>\n",
       "    </tr>\n",
       "    <tr>\n",
       "      <th>6</th>\n",
       "      <td>WindGustDir</td>\n",
       "      <td>16</td>\n",
       "      <td>object</td>\n",
       "      <td>W</td>\n",
       "      <td>145460</td>\n",
       "      <td>10326</td>\n",
       "      <td>0</td>\n",
       "      <td>see type column</td>\n",
       "    </tr>\n",
       "    <tr>\n",
       "      <th>7</th>\n",
       "      <td>WindSpeed9am</td>\n",
       "      <td>43</td>\n",
       "      <td>float64</td>\n",
       "      <td>9.0</td>\n",
       "      <td>145460</td>\n",
       "      <td>1767</td>\n",
       "      <td>0</td>\n",
       "      <td style=\"text-align: left;\">min...:       0.00<br style=\"text-align: left;\">max..:     130.00<br style=\"text-align: left;\">mean:     14.04<br style=\"text-align: left;\">std....:       8.92</td>\n",
       "    </tr>\n",
       "    <tr>\n",
       "      <th>8</th>\n",
       "      <td>WindSpeed3pm</td>\n",
       "      <td>44</td>\n",
       "      <td>float64</td>\n",
       "      <td>13.0</td>\n",
       "      <td>145460</td>\n",
       "      <td>3062</td>\n",
       "      <td>0</td>\n",
       "      <td style=\"text-align: left;\">min...:      0.00<br style=\"text-align: left;\">max..:     87.00<br style=\"text-align: left;\">mean:    18.66<br style=\"text-align: left;\">std....:      8.81</td>\n",
       "    </tr>\n",
       "    <tr>\n",
       "      <th>9</th>\n",
       "      <td>Location</td>\n",
       "      <td>49</td>\n",
       "      <td>object</td>\n",
       "      <td>Canberra</td>\n",
       "      <td>145460</td>\n",
       "      <td>0</td>\n",
       "      <td>0</td>\n",
       "      <td>see type column</td>\n",
       "    </tr>\n",
       "    <tr>\n",
       "      <th>10</th>\n",
       "      <td>WindGustSpeed</td>\n",
       "      <td>67</td>\n",
       "      <td>float64</td>\n",
       "      <td>35.0</td>\n",
       "      <td>145460</td>\n",
       "      <td>10263</td>\n",
       "      <td>0</td>\n",
       "      <td style=\"text-align: left;\">min...:       6.00<br style=\"text-align: left;\">max..:     135.00<br style=\"text-align: left;\">mean:     40.04<br style=\"text-align: left;\">std....:      13.61</td>\n",
       "    </tr>\n",
       "    <tr>\n",
       "      <th>11</th>\n",
       "      <td>Humidity3pm</td>\n",
       "      <td>101</td>\n",
       "      <td>float64</td>\n",
       "      <td>52.0</td>\n",
       "      <td>145460</td>\n",
       "      <td>4507</td>\n",
       "      <td>0</td>\n",
       "      <td style=\"text-align: left;\">min...:       0.00<br style=\"text-align: left;\">max..:     100.00<br style=\"text-align: left;\">mean:     51.54<br style=\"text-align: left;\">std....:      20.80</td>\n",
       "    </tr>\n",
       "    <tr>\n",
       "      <th>12</th>\n",
       "      <td>Humidity9am</td>\n",
       "      <td>101</td>\n",
       "      <td>float64</td>\n",
       "      <td>99.0</td>\n",
       "      <td>145460</td>\n",
       "      <td>2654</td>\n",
       "      <td>0</td>\n",
       "      <td style=\"text-align: left;\">min...:       0.00<br style=\"text-align: left;\">max..:     100.00<br style=\"text-align: left;\">mean:     68.88<br style=\"text-align: left;\">std....:      19.03</td>\n",
       "    </tr>\n",
       "    <tr>\n",
       "      <th>13</th>\n",
       "      <td>Sunshine</td>\n",
       "      <td>145</td>\n",
       "      <td>float64</td>\n",
       "      <td>0.0</td>\n",
       "      <td>145460</td>\n",
       "      <td>69835</td>\n",
       "      <td>0</td>\n",
       "      <td style=\"text-align: left;\">min...:      0.00<br style=\"text-align: left;\">max..:     14.50<br style=\"text-align: left;\">mean:     7.61<br style=\"text-align: left;\">std....:      3.79</td>\n",
       "    </tr>\n",
       "    <tr>\n",
       "      <th>14</th>\n",
       "      <td>Evaporation</td>\n",
       "      <td>358</td>\n",
       "      <td>float64</td>\n",
       "      <td>4.0</td>\n",
       "      <td>145460</td>\n",
       "      <td>62790</td>\n",
       "      <td>0</td>\n",
       "      <td style=\"text-align: left;\">min...:       0.00<br style=\"text-align: left;\">max..:     145.00<br style=\"text-align: left;\">mean:      5.47<br style=\"text-align: left;\">std....:       4.19</td>\n",
       "    </tr>\n",
       "    <tr>\n",
       "      <th>15</th>\n",
       "      <td>MinTemp</td>\n",
       "      <td>389</td>\n",
       "      <td>float64</td>\n",
       "      <td>11.0</td>\n",
       "      <td>145460</td>\n",
       "      <td>1485</td>\n",
       "      <td>0</td>\n",
       "      <td style=\"text-align: left;\">min...:     -8.50<br style=\"text-align: left;\">max..:     33.90<br style=\"text-align: left;\">mean:    12.19<br style=\"text-align: left;\">std....:      6.40</td>\n",
       "    </tr>\n",
       "    <tr>\n",
       "      <th>16</th>\n",
       "      <td>Temp9am</td>\n",
       "      <td>441</td>\n",
       "      <td>float64</td>\n",
       "      <td>17.0</td>\n",
       "      <td>145460</td>\n",
       "      <td>1767</td>\n",
       "      <td>0</td>\n",
       "      <td style=\"text-align: left;\">min...:     -7.20<br style=\"text-align: left;\">max..:     40.20<br style=\"text-align: left;\">mean:    16.99<br style=\"text-align: left;\">std....:      6.49</td>\n",
       "    </tr>\n",
       "    <tr>\n",
       "      <th>17</th>\n",
       "      <td>Temp3pm</td>\n",
       "      <td>502</td>\n",
       "      <td>float64</td>\n",
       "      <td>20.0</td>\n",
       "      <td>145460</td>\n",
       "      <td>3609</td>\n",
       "      <td>0</td>\n",
       "      <td style=\"text-align: left;\">min...:     -5.40<br style=\"text-align: left;\">max..:     46.70<br style=\"text-align: left;\">mean:    21.68<br style=\"text-align: left;\">std....:      6.94</td>\n",
       "    </tr>\n",
       "    <tr>\n",
       "      <th>18</th>\n",
       "      <td>MaxTemp</td>\n",
       "      <td>505</td>\n",
       "      <td>float64</td>\n",
       "      <td>20.0</td>\n",
       "      <td>145460</td>\n",
       "      <td>1261</td>\n",
       "      <td>0</td>\n",
       "      <td style=\"text-align: left;\">min...:     -4.80<br style=\"text-align: left;\">max..:     48.10<br style=\"text-align: left;\">mean:    23.22<br style=\"text-align: left;\">std....:      7.12</td>\n",
       "    </tr>\n",
       "    <tr>\n",
       "      <th>19</th>\n",
       "      <td>Pressure9am</td>\n",
       "      <td>546</td>\n",
       "      <td>float64</td>\n",
       "      <td>1016.4</td>\n",
       "      <td>145460</td>\n",
       "      <td>15065</td>\n",
       "      <td>0</td>\n",
       "      <td style=\"text-align: left;\">min...:      980.50<br style=\"text-align: left;\">max..:     1041.00<br style=\"text-align: left;\">mean:    1017.65<br style=\"text-align: left;\">std....:        7.11</td>\n",
       "    </tr>\n",
       "    <tr>\n",
       "      <th>20</th>\n",
       "      <td>Pressure3pm</td>\n",
       "      <td>549</td>\n",
       "      <td>float64</td>\n",
       "      <td>1015.3</td>\n",
       "      <td>145460</td>\n",
       "      <td>15028</td>\n",
       "      <td>0</td>\n",
       "      <td style=\"text-align: left;\">min...:      977.10<br style=\"text-align: left;\">max..:     1039.60<br style=\"text-align: left;\">mean:    1015.26<br style=\"text-align: left;\">std....:        7.04</td>\n",
       "    </tr>\n",
       "    <tr>\n",
       "      <th>21</th>\n",
       "      <td>Rainfall</td>\n",
       "      <td>681</td>\n",
       "      <td>float64</td>\n",
       "      <td>0.0</td>\n",
       "      <td>145460</td>\n",
       "      <td>3261</td>\n",
       "      <td>0</td>\n",
       "      <td style=\"text-align: left;\">min...:       0.00<br style=\"text-align: left;\">max..:     371.00<br style=\"text-align: left;\">mean:      2.36<br style=\"text-align: left;\">std....:       8.48</td>\n",
       "    </tr>\n",
       "    <tr>\n",
       "      <th>22</th>\n",
       "      <td>Date</td>\n",
       "      <td>3436</td>\n",
       "      <td>object</td>\n",
       "      <td>2013-03-01</td>\n",
       "      <td>145460</td>\n",
       "      <td>0</td>\n",
       "      <td>0</td>\n",
       "      <td>see type column</td>\n",
       "    </tr>\n",
       "  </tbody>\n",
       "</table>"
      ],
      "text/plain": [
       "<IPython.core.display.HTML object>"
      ]
     },
     "execution_count": 2,
     "metadata": {},
     "output_type": "execute_result"
    }
   ],
   "source": [
    "df = pd.read_csv('https://drive.google.com/uc?export=download&confirm=no_antivirus&id=1du_iRetQfvk6Y3oq3ikFL6B511pRNd7I')\n",
    "\n",
    "my_info(df)"
   ]
  },
  {
   "cell_type": "markdown",
   "metadata": {},
   "source": [
    "[↑ contents](#contents)\n",
    "\n",
    "## Небольшой feature ingeneering <a id='featureengineering'></a>"
   ]
  },
  {
   "cell_type": "code",
   "execution_count": 3,
   "metadata": {},
   "outputs": [
    {
     "name": "stdout",
     "output_type": "stream",
     "text": [
      "Задание 4.1: сколько пропусков в целом?\n",
      "--------------------------------------\n",
      "Ответ: 343248\n",
      "\n",
      "Задание 4.2: в некоторых признаках пропусков > 40. Сколько таких признаков?\n",
      "--------------------------------------------------------------------------\n",
      "Ответ: 3\n"
     ]
    }
   ],
   "source": [
    "print(f\"Задание 4.1: сколько пропусков в целом?\\n{'-'*38}\\nОтвет: {df.isna().sum().sum()}\\n\")\n",
    "\n",
    "nan_percent = df.isna().sum() / df.shape[0] * 100\n",
    "print(f\"Задание 4.2: в некоторых признаках пропусков > 40. Сколько таких признаков?\\n{'-'*74}\\nОтвет: {nan_percent[nan_percent > 40].shape[0]}\")\n",
    "\n",
    "df = df.drop(nan_percent[nan_percent > 40].index, axis=1)"
   ]
  },
  {
   "cell_type": "markdown",
   "metadata": {},
   "source": [
    "Обработаем признаки `RainToday` и `RainTomorrow` таким образом, чтобы вместо `yes` было значение `1`, а вместо `no` — значение `0`. Обратите внимание на то, что в признаках `RainToday` и `RainTomorrow` присутствуют пропуски, и их трогать не нужно, они должны остаться пропусками. Поэтому обрабатывайте столбцы таким образом, чтобы не видоизменить пропущенные значения.\n",
    "\n",
    "Вычислите среднее арифметическое для преобразованного признака `RainToday` и запишите его в ответ, предварительно округлив до двух знаков после точки-разделителя."
   ]
  },
  {
   "cell_type": "code",
   "execution_count": 4,
   "metadata": {},
   "outputs": [
    {
     "name": "stdout",
     "output_type": "stream",
     "text": [
      "Задание 4.3: выведите ср. арифмет. для RainToday.\n",
      "------------------------------------------------\n",
      "Ответ: 0.22\n",
      "\n"
     ]
    }
   ],
   "source": [
    "df['RainToday'] = df['RainToday'].str.lower().map({'yes': 1, 'no': 0}, na_action='ignore')\n",
    "df['RainTomorrow'] = df['RainTomorrow'].str.lower().map({'yes': 1, 'no': 0}, na_action='ignore')\n",
    "\n",
    "print(f\"Задание 4.3: выведите ср. арифмет. для RainToday.\\n{'-'*48}\\nОтвет: {df['RainToday'].mean():.2f}\\n\")"
   ]
  },
  {
   "cell_type": "markdown",
   "metadata": {},
   "source": [
    "Обработайте признак `Date` таким образом, чтобы выделить в отдельный признак `Month` (номер месяца). Изначальный признак `Date` удалите.  \n",
    "Определите, какой месяц имеет самую большую часть дождливых дней относительно всех дней месяца. В качестве ответа введите порядковый номер месяца."
   ]
  },
  {
   "cell_type": "code",
   "execution_count": 5,
   "metadata": {},
   "outputs": [
    {
     "name": "stdout",
     "output_type": "stream",
     "text": [
      "Задание 4.4: какой мес имеет наибольшую часть дождливых дней относительно всех дней месяца?\n",
      "------------------------------------------------------------------------------------------\n",
      "Ответ: 7\n",
      "\n"
     ]
    }
   ],
   "source": [
    "df = df.assign(Month=pd.to_datetime(df['Date']).dt.month).drop('Date', axis=1)\n",
    "\n",
    "var_for_answer = df.groupby('Month')['RainToday'].mean(numeric_only=True).sort_values(ascending=False).head(1).index[0]\n",
    "\n",
    "print(f\"Задание 4.4: какой мес имеет наибольшую часть дождливых дней относительно всех дней месяца?\\n{'-'*90}\\nОтвет: {var_for_answer}\\n\")"
   ]
  },
  {
   "cell_type": "markdown",
   "metadata": {},
   "source": [
    "Обработайте оставшиеся категориальные признаки. С помощью метода `get_dummies` с настройками по умолчанию создайте `dummy`-переменные для всех категориальных признаков (их пять), которые есть в данных на этот момент.\n",
    "\n",
    "Кодировку признаков важно выполнить именно в следующем порядке: `categoricals = ['Month', 'Location', 'WindGustDir', 'WindDir9am', 'WindDir3pm']`. Это необходимо для того, чтобы ваши дальнейшие ответы сходились с нашим решением, так как алгоритм случайного леса, который мы будем использовать в дальнейшем, чувствителен к порядку столбцов. Аргумент `categoricals` передаётся в функцию `pd.get_dummies()` с использованием ключевого слова `columns`, а именно `columns=categoricals`.\n",
    "\n",
    "Сколько теперь признаков в данных, если считать целевую переменную?"
   ]
  },
  {
   "cell_type": "code",
   "execution_count": 6,
   "metadata": {},
   "outputs": [
    {
     "name": "stdout",
     "output_type": "stream",
     "text": [
      "Задание 4.5: Сколько получилось признаков, включая целевой?\n",
      "----------------------------------------------------------\n",
      "Ответ: 124\n",
      "\n"
     ]
    }
   ],
   "source": [
    "df = pd.get_dummies(df, columns=['Month', 'Location', 'WindGustDir', 'WindDir9am', 'WindDir3pm'], dtype=int)\n",
    "\n",
    "print(f\"Задание 4.5: Сколько получилось признаков, включая целевой?\\n{'-'*58}\\nОтвет: {df.shape[1]}\\n\")"
   ]
  },
  {
   "cell_type": "markdown",
   "metadata": {},
   "source": [
    "[↑ contents](#contents)\n",
    "\n",
    "## Разбиение выборки на train и test <a id='trainttestsplit'></a>"
   ]
  },
  {
   "cell_type": "markdown",
   "metadata": {},
   "source": [
    "Удалите все строки, где есть пропуски. Далее разбейте данные на обучающую и тестовую выборки в соотношении `70/30`, в качестве значения параметра `random_state` возьмите число `31`.\n",
    "\n",
    "Каково среднее значение целевой переменной на тестовой выборке? Ответ округлите до двух знаков после точки-разделителя."
   ]
  },
  {
   "cell_type": "code",
   "execution_count": 7,
   "metadata": {},
   "outputs": [
    {
     "name": "stdout",
     "output_type": "stream",
     "text": [
      "Задание 4.6: Каково среднее значение целевой переменной на тестовой выборке?\n",
      "---------------------------------------------------------------------------\n",
      "Ответ: 0.23\n",
      "\n"
     ]
    },
    {
     "data": {
      "image/png": "[encoded data removed]",
      "text/plain": [
       "<Figure size 1000x500 with 1 Axes>"
      ]
     },
     "metadata": {},
     "output_type": "display_data"
    }
   ],
   "source": [
    "df = df.dropna(axis=0).reset_index(drop=True)\n",
    "\n",
    "X = df.drop('RainTomorrow', axis=1)\n",
    "y = df['RainTomorrow']\n",
    "\n",
    "X_train, X_test, y_train, y_test = train_test_split(X, y, test_size=0.3, random_state=31)\n",
    "\n",
    "print(f\"Задание 4.6: Каково среднее значение целевой переменной на тестовой выборке?\\n{'-'*75}\\nОтвет: {y_test.mean():.2f}\\n\")\n",
    "\n",
    "plot_train_test_split_balance(X_train, X_test, y_train, y_test, startangle=216).show('png')"
   ]
  },
  {
   "cell_type": "markdown",
   "metadata": {},
   "source": [
    "[↑ contents](#contents)\n",
    "\n",
    "<h2 id='ex_4_7'>Бутстреп реализованный вручную</h2>"
   ]
  },
  {
   "cell_type": "markdown",
   "metadata": {},
   "source": [
    "Теперь давайте вспомним про бутстреп. Он не понадобится нам для решения этой задачи, но будет полезно реализовать его «вручную».\n",
    "\n",
    "Сделайте оценку стандартного отклонения для среднего значения минимальной температуры для обучающей выборки (то есть для среднего значения по признаку `MinTemp`). Для этого сгенерируйте `1000` случайных выборок из наших данных — каждая из них должна быть такого же объёма, как и обучающая выборка. Для генерации выборки используйте `np.random.randint()`: сгенерируйте необходимое количество индексов и по ним извлеките соответствующие элементы выборки. Случайность фиксируйте с помощью `np.random.seed(31)`.\n",
    "\n",
    "Для каждой выборки вычислите среднее значение, а после найдите стандартное отклонение для этих значений. Ответ округлите до двух знаков после точки-разделителя. "
   ]
  },
  {
   "cell_type": "code",
   "execution_count": 8,
   "metadata": {},
   "outputs": [
    {
     "name": "stdout",
     "output_type": "stream",
     "text": [
      "Задание 4.7: вычислить std для списка средних значений тысячи случайных выборок.\n",
      "-------------------------------------------------------------------------------\n",
      "Ответ: 0.03\n",
      "\n"
     ]
    }
   ],
   "source": [
    "np.random.seed(31)\n",
    "\n",
    "series_for_this_cell = X_train['MinTemp'].reset_index(drop=True)\n",
    "max_index = series_for_this_cell.shape[0]\n",
    "\n",
    "var_for_ans = np.std([series_for_this_cell[np.random.randint(0, max_index, max_index)].mean() for i in range(1000)])\n",
    "\n",
    "print(f\"Задание 4.7: вычислить std для списка средних значений тысячи случайных выборок.\\n{'-'*79}\\nОтвет: {var_for_ans:.2f}\\n\")"
   ]
  },
  {
   "cell_type": "markdown",
   "metadata": {},
   "source": [
    "[↑ contents](#contents)\n",
    "\n",
    "<h2 id='ex_4_8'>Логистическая регрессия без параметров</h2>"
   ]
  },
  {
   "cell_type": "markdown",
   "metadata": {},
   "source": [
    "Теперь можно перейти к обучению прогностических моделей. Начнём с того, что построим простейшую `логистическую` регрессию (без настройки гиперпараметров). Это будет та модель, с качеством которой мы будем сравнивать результаты, полученные далее.\n",
    "\n",
    "В качестве ответа введите значение метрики `roc_auc` на тестовой выборке. Ответ округлите до двух знаков после точки-разделителя."
   ]
  },
  {
   "cell_type": "code",
   "execution_count": 9,
   "metadata": {},
   "outputs": [
    {
     "name": "stdout",
     "output_type": "stream",
     "text": [
      "Задание 4.8: вывести значение roc_auc для лог. регрессии.\n",
      "--------------------------------------------------------\n",
      "Ответ: 0.74\n",
      "\n"
     ]
    }
   ],
   "source": [
    "logreg = LogisticRegression(max_iter=2500, n_jobs=-1)\n",
    "logreg.fit(X_train, y_train)\n",
    "\n",
    "print(f\"Задание 4.8: вывести значение roc_auc для лог. регрессии.\\n{'-'*56}\\nОтвет: {roc_auc_score(y_test, logreg.predict(X_test)):.2f}\\n\")"
   ]
  },
  {
   "cell_type": "markdown",
   "metadata": {},
   "source": [
    "Пришлось использовать `max_iter=2500`, т.к. не отключались предупреждения через `warnings.filterwarnings`."
   ]
  },
  {
   "cell_type": "markdown",
   "metadata": {},
   "source": [
    "[↑ contents](#contents)\n",
    "\n",
    "<h2 id='ex_4_9'>DecisionTreeClassifier через GridSearch</h2>"
   ]
  },
  {
   "cell_type": "markdown",
   "metadata": {},
   "source": [
    "Теперь попробуйте обучить на наших данных другой алгоритм — дерево решений. С помощью `GridSearchCV` сделайте перебор гиперпараметров по следующей сетке:\n",
    "\n",
    ">params = {'max_leaf_nodes': list(range(2, 10)), 'min_samples_split': [2, 3, 4], 'max_depth': [5,7,9,11]}\n",
    "\n",
    "Для параметра кросс-валидации `cv` задайте значение `3`. Для решающего дерева определите параметр `random_state=42`. Остальные параметры оставьте по умолчанию.\n",
    "\n",
    "1. Вычислите значение `roc_auc` для решающего дерева с гиперпараметрами, определёнными в качестве оптимальных. Ответ округлите до двух знаков после точки-разделителя.\n",
    "2. Какие значения гиперпараметров были выбраны как оптимальные? `max_depth` `max_leaf_nodes` `min_samples_split`"
   ]
  },
  {
   "cell_type": "code",
   "execution_count": 10,
   "metadata": {},
   "outputs": [
    {
     "name": "stdout",
     "output_type": "stream",
     "text": [
      "Задание 4.9: вывести значение roc_auc для решающего дерева.\n",
      "----------------------------------------------------------\n",
      "Ответ п.1: 0.70\n",
      "Ответ п.2: max_depth = 5, max_leaf_nodes = 9, min_samples_split = 2\n"
     ]
    }
   ],
   "source": [
    "param_grid = {'max_leaf_nodes': list(range(2, 10)), 'min_samples_split': [2, 3, 4], 'max_depth': [5, 7, 9, 11]}\n",
    "\n",
    "grid_search = GridSearchCV(estimator=DecisionTreeClassifier(random_state=42),\n",
    "                           param_grid=param_grid,\n",
    "                           cv=3,\n",
    "                           n_jobs=-1)\n",
    "\n",
    "grid_search.fit(X_train, y_train)\n",
    "\n",
    "print(f\"Задание 4.9: вывести значение roc_auc для решающего дерева.\\n{'-'*58}\\nОтвет п.1: {roc_auc_score(y_test, grid_search.predict(X_test)):.2f}\")\n",
    "print('Ответ п.2: max_depth = {}, max_leaf_nodes = {}, min_samples_split = {}'.format(*grid_search.best_params_.values()))"
   ]
  },
  {
   "cell_type": "markdown",
   "metadata": {},
   "source": [
    "[↑ contents](#contents)\n",
    "\n",
    "<h2 id='ex_4_10'>RandomForest</h2>n_estimators=100"
   ]
  },
  {
   "cell_type": "markdown",
   "metadata": {},
   "source": [
    "К сожалению, деревья решений не помогли нам в улучшении качества модели, так что попробуем ещё уменьшить ошибку с помощью ансамблей.\n",
    "\n",
    "Теперь постройте случайный лес, включающий 100 деревьев. Задайте параметр `random_state=31`. Остальные параметры оставьте по умолчанию.\n",
    "\n",
    "Какой теперь будет метрика `roc_auc` на тестовой выборке? Ответ округлите до двух знаков после точки-разделителя."
   ]
  },
  {
   "cell_type": "code",
   "execution_count": 11,
   "metadata": {},
   "outputs": [
    {
     "name": "stdout",
     "output_type": "stream",
     "text": [
      "Задание 4.10: вывести значение roc_auc для random forest.\n",
      "--------------------------------------------------------\n",
      "Ответ: 0.73\n",
      "\n"
     ]
    }
   ],
   "source": [
    "rf = RandomForestClassifier(n_estimators=100, random_state=31, n_jobs=-1)\n",
    "rf.fit(X_train, y_train)\n",
    "\n",
    "print(f\"Задание 4.10: вывести значение roc_auc для random forest.\\n{'-'*56}\\nОтвет: {roc_auc_score(y_test, rf.predict(X_test)):.2f}\\n\")"
   ]
  },
  {
   "cell_type": "markdown",
   "metadata": {},
   "source": [
    "[↑ contents](#contents)\n",
    "\n",
    "<h2 id='ex_4_11'>RandomForest через GridSearch</h2>"
   ]
  },
  {
   "cell_type": "markdown",
   "metadata": {},
   "source": [
    "Основные параметры, которые отвечают за качество обучения в случайном лесе, следующие:'`max_features`', '`min_samples_leaf`', '`max_depth`'.\n",
    "\n",
    "Возьмите случайный лес из 100 деревьев и найдите оптимальную комбинацию этих трёх параметров. Сетка для перебора следующая:\n",
    "\n",
    ">{'max_features': [ 4, 5, 6, 7], 'min_samples_leaf': [3, 5, 7, 9, 11], 'max_depth': [5, 10, 15]}\n",
    "\n",
    "Перебор осуществите с помощью `GridSearchCV`. Для параметра кросс-валидации `cv` задайте значение 3. Случайности фиксируйте параметром `random_state = 31`. Остальные значения оставьте по умолчанию.\n",
    "\n",
    "Какое значение `roc_auc` получилось для оптимальных гиперпараметров?"
   ]
  },
  {
   "cell_type": "code",
   "execution_count": 12,
   "metadata": {},
   "outputs": [
    {
     "name": "stdout",
     "output_type": "stream",
     "text": [
      "Задание 4.11: вывести значение roc_auc.\n",
      "--------------------------------------\n",
      "Ответ: 0.70\n",
      "\n"
     ]
    }
   ],
   "source": [
    "param_grid_rf = {'max_features': [4, 5, 6, 7], 'min_samples_leaf': [3, 5, 7, 9, 11], 'max_depth': [5, 10, 15]}\n",
    "\n",
    "grid_search_rf = GridSearchCV(estimator=RandomForestClassifier(n_estimators=100, random_state=31, n_jobs=-1),\n",
    "                              param_grid=param_grid_rf,\n",
    "                              cv=3,\n",
    "                              n_jobs=-1)\n",
    "\n",
    "grid_search_rf.fit(X_train, y_train)\n",
    "\n",
    "print(f\"Задание 4.11: вывести значение roc_auc.\\n{'-'*38}\\nОтвет: {roc_auc_score(y_test, grid_search_rf.predict(X_test)):.2f}\\n\")"
   ]
  },
  {
   "cell_type": "markdown",
   "metadata": {},
   "source": [
    "[↑ contents](#contents)\n",
    "\n",
    "<h2 id='ex_4_12'>Feature importances для модели GridSearch</h2>"
   ]
  },
  {
   "cell_type": "markdown",
   "metadata": {},
   "source": [
    "Как мы говорили в предыдущем юните, благодаря случайному лесу можно узнать, какие признаки оказывают большее влияние на целевую переменную по сравнению с другими.\n",
    "\n",
    "Оцените значимость признаков. Отметьте три признака, которые дают наибольший вклад в целевую переменную (в каждой колонке находится как минимум один верный вариант ответа): "
   ]
  },
  {
   "cell_type": "code",
   "execution_count": 13,
   "metadata": {},
   "outputs": [
    {
     "data": {
      "image/png": "[encoded data removed]",
      "text/plain": [
       "<Figure size 1000x500 with 1 Axes>"
      ]
     },
     "metadata": {},
     "output_type": "display_data"
    }
   ],
   "source": [
    "df_for_this_cell = pd.DataFrame([grid_search_rf.feature_names_in_, grid_search_rf.best_estimator_.feature_importances_]).T.sort_values(by=1, ascending=False).head(15)\n",
    "\n",
    "fig, ax = plt.subplots(figsize=(10, 5))\n",
    "ax = sns.barplot(data=df_for_this_cell, x=1, y=0, palette='deep', hue=0)\n",
    "ax.set(xlabel='Мощность признака', ylabel='', title='Наиболее важные признаки')\n",
    "[ax.bar_label(ax.containers[i], fmt='%.3f', label_type='center', color='white', fontsize=8) for i in range(df_for_this_cell.shape[0])]\n",
    "plt.show('png')"
   ]
  },
  {
   "cell_type": "markdown",
   "metadata": {},
   "source": [
    "В итоге победила простая логистическая регрессия, показав лучшие результаты на метрике `roc_auc`.)"
   ]
  },
  {
   "cell_type": "markdown",
   "metadata": {},
   "source": [
    "[↑ contents](#contents)"
   ]
  }
 ],
 "metadata": {
  "kernelspec": {
   "display_name": "Lema_python_3_10",
   "language": "python",
   "name": "python3"
  },
  "language_info": {
   "codemirror_mode": {
    "name": "ipython",
    "version": 3
   },
   "file_extension": ".py",
   "mimetype": "text/x-python",
   "name": "python",
   "nbconvert_exporter": "python",
   "pygments_lexer": "ipython3",
   "version": "3.10.8"
  }
 },
 "nbformat": 4,
 "nbformat_minor": 2
}
