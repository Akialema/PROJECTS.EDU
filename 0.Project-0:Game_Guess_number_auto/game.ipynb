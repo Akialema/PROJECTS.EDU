{
 "cells": [
  {
   "attachments": {},
   "cell_type": "markdown",
   "metadata": {},
   "source": [
    "<h1>Игра угадай число</h1>"
   ]
  },
  {
   "attachments": {},
   "cell_type": "markdown",
   "metadata": {},
   "source": [
    "Представляю свой вариант автонахождения случайно загаданного числа \n",
    "за минимальное количество попыток."
   ]
  },
  {
   "cell_type": "code",
   "execution_count": 2,
   "metadata": {},
   "outputs": [],
   "source": [
    "import numpy as np"
   ]
  },
  {
   "attachments": {},
   "cell_type": "markdown",
   "metadata": {},
   "source": [
    "Сначала запишу простую функцию, с которой будет происходить сравнение и функцию для оценки.  \n",
    "А затем свою функцию."
   ]
  },
  {
   "attachments": {},
   "cell_type": "markdown",
   "metadata": {},
   "source": [
    "<h2>Простая функция</h2>\n",
    "\n",
    "---"
   ]
  },
  {
   "attachments": {},
   "cell_type": "markdown",
   "metadata": {},
   "source": [
    "Программа определяет число путём бесконтрольной подстановки. \\\n",
    "<u>**predict_number**</u> хаотично гоняется по циклу, пока не выдаст искомое число."
   ]
  },
  {
   "cell_type": "code",
   "execution_count": 17,
   "metadata": {},
   "outputs": [],
   "source": [
    "def random_predict_base(number: int = 1) -> int:\n",
    "\n",
    "    count = 0\n",
    "    \n",
    "    if number == 1:\n",
    "        number = np.random.randint(1, 101)\n",
    "\n",
    "    while True:\n",
    "        count += 1\n",
    "        predict_number = np.random.randint(1, 101)\n",
    "        \n",
    "        if number == predict_number:\n",
    "            break\n",
    "        \n",
    "    return count"
   ]
  },
  {
   "attachments": {},
   "cell_type": "markdown",
   "metadata": {},
   "source": [
    "<h2>Функция для оценки</h2>\n",
    "\n",
    "---"
   ]
  },
  {
   "attachments": {},
   "cell_type": "markdown",
   "metadata": {},
   "source": [
    "Которая определяет, за какое число попыток программа угадывает число."
   ]
  },
  {
   "cell_type": "code",
   "execution_count": 18,
   "metadata": {},
   "outputs": [],
   "source": [
    "def score_game(random_predict) -> int:\n",
    "    \"\"\"За какое количство попыток в среднем за 10000 подходов угадывает наш алгоритм\n",
    "\n",
    "    Args:\n",
    "        random_predict ([type]): функция угадывания\n",
    "\n",
    "    Returns:\n",
    "        int: среднее количество попыток\n",
    "    \"\"\"\n",
    "    count_ls = []\n",
    "    np.random.seed(1)                                       # фиксируем сид для воспроизводимости.\n",
    "    random_array = np.random.randint(1, 101, size=(10000))  # загадали список чисел.\n",
    "    \n",
    "    for number in random_array:\n",
    "        count_ls.append(random_predict(number))\n",
    "\n",
    "    score = int(np.mean(count_ls))\n",
    "    \n",
    "    return print(f\"Ваш алгоритм угадывает число в среднем за: {score} попыток\")"
   ]
  },
  {
   "attachments": {},
   "cell_type": "markdown",
   "metadata": {},
   "source": [
    "Далее представляю свою функцию, в которой я добавил 2 переменные, чтобы\n",
    "уменьшать диапазон генерации случайного числа.\n",
    "\n",
    "Т.е. изначально я вкидываю в цикл какое-то рандомное число ```random_number```\n",
    "от 1 до 101, по которому я определяю промежуточный максимум или минимум,\n",
    "больше которого или меньше которого является искомое число ```number```.\n",
    "\n",
    "> К примеру: допустим из списка ```random_array```, \n",
    "> функции ```score_game``` нам приходит число 67. Которое приравнивается к\n",
    "> максимальному или минимальному промежуточному, из диапазона которых в конце \n",
    "> цикла будет формироваться новое число ```random_number```.\n",
    ">> Т.е. изначально было: ```np.random.randint(1, 101)```, а после того, как\n",
    ">> пришло число 67 и оно, скажем, оказалось больше, чем искомое число \n",
    ">> и следовательно новое число ```random_number``` будет равняться\n",
    ">> ```np.random.randint(1, 67)``` или ```np.random.randint(middle_min, middle_max)```\n",
    ">> где ```middle_min``` по умолчанию ```1```, а ```middle_max``` стал равен ```67```.\n",
    "\n",
    "А потом я добавил ещё одно условие для первого шага, которое уменьшает диапазон сравнивания, что сократило средний показатель поиска на 3. Было: ваш алг угадывает число за 8 попыток, стало: за 5.\n",
    "\n",
    "Итак."
   ]
  },
  {
   "attachments": {},
   "cell_type": "markdown",
   "metadata": {},
   "source": [
    "<h2>Модифицированная функция</h2>\n",
    "\n",
    "---"
   ]
  },
  {
   "cell_type": "code",
   "execution_count": 19,
   "metadata": {},
   "outputs": [],
   "source": [
    "def random_predict_mod(number:int=1) -> int:\n",
    "    \"\"\"   \n",
    "                    Автонахождение случайно загаданного числа\n",
    "\n",
    "    Args:\n",
    "        middle_min (int, optional): минимальное срединное. Defaults to 1.\n",
    "        middle_max (int, optional): максимальное срединное. Defaults to 101.\n",
    "        count (int, optional): количество попыток. Defaults to 0.\n",
    "    \n",
    "    Returns:\n",
    "        int:    Число попыток\n",
    "        \n",
    "    \"\"\"\n",
    "\n",
    "    count = 0  # количество попыток.\n",
    "    \n",
    "    middle_min = 1   # срединное минимальное.\n",
    "    middle_max = 101 # срединное максимальное.\n",
    "    \n",
    "    if number == 1:\n",
    "        number = np.random.randint(1, 101)\n",
    "\n",
    "    random_number = np.random.randint(1, 101)\n",
    "    \n",
    "    while True:\n",
    "        count+=1                     # Счётчик количества попыток.\n",
    "        if count == 1:               # Условие для первого шага.\n",
    "            if number >= 50 and number < 70:\n",
    "                middle_min = 50\n",
    "                middle_max = 70\n",
    "            elif number >= 70:\n",
    "                middle_min = 70\n",
    "            elif number >= 30 and number < 50:\n",
    "                middle_min = 30\n",
    "                middle_max = 50\n",
    "            elif number < 30:\n",
    "                middle_max = 30\n",
    "            random_number = np.random.randint(middle_min, middle_max)\n",
    "            \n",
    "        if random_number > number:   # Основное сравнение.\n",
    "            middle_max = random_number\n",
    "        elif random_number < number:\n",
    "            middle_min = random_number\n",
    "        elif random_number == number:\n",
    "            break\n",
    "        random_number = np.random.randint(middle_min, middle_max)\n",
    "        \n",
    "    #print(f'Случайное число {number} угадалось за {count} попыток')    \n",
    "    return count"
   ]
  },
  {
   "attachments": {},
   "cell_type": "markdown",
   "metadata": {},
   "source": [
    "Ну и наконец сравнение работы двух функций:"
   ]
  },
  {
   "cell_type": "code",
   "execution_count": 20,
   "metadata": {},
   "outputs": [
    {
     "name": "stdout",
     "output_type": "stream",
     "text": [
      "Run benchmarking for random_predict_base: Ваш алгоритм угадывает число в среднем за: 100 попыток\n",
      "Run benchmarking for random_predict_mod: Ваш алгоритм угадывает число в среднем за: 5 попыток\n"
     ]
    }
   ],
   "source": [
    "print('Run benchmarking for random_predict_base: ', end = '')\n",
    "score_game(random_predict_base)\n",
    "\n",
    "print('Run benchmarking for random_predict_mod: ', end = '')\n",
    "score_game(random_predict_mod)"
   ]
  },
  {
   "cell_type": "markdown",
   "metadata": {},
   "source": [
    "<h2>Вывод</h2>\n",
    "\n",
    "В качестве вывода могу отметить факт того, что данная функция равноценна функции бинарного поиска, которая угадывает число в среднем за те же 5 попыток. Но, разумеется, бинарный поиск выглядит приятней, чем тонна иф-элифов."
   ]
  }
 ],
 "metadata": {
  "kernelspec": {
   "display_name": "Python 3",
   "language": "python",
   "name": "python3"
  },
  "language_info": {
   "codemirror_mode": {
    "name": "ipython",
    "version": 3
   },
   "file_extension": ".py",
   "mimetype": "text/x-python",
   "name": "python",
   "nbconvert_exporter": "python",
   "pygments_lexer": "ipython3",
   "version": "3.10.10"
  },
  "orig_nbformat": 4,
  "vscode": {
   "interpreter": {
    "hash": "aee8b7b246df8f9039afb4144a1f6fd8d2ca17a180786b69acc140d282b71a49"
   }
  }
 },
 "nbformat": 4,
 "nbformat_minor": 2
}
