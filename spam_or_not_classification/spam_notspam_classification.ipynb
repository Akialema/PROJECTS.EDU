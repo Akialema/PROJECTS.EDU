{
  "cells": [
    {
      "cell_type": "markdown",
      "id": "00009cca",
      "metadata": {
        "id": "00009cca"
      },
      "source": [
        "<center><span style=\"font-size:25px;\">КЛАССИФИКАЦИЯ ПИСЕМ НА СПАМ - НЕ СПАМ</span></center>"
      ]
    },
    {
      "cell_type": "markdown",
      "id": "9fe0163a",
      "metadata": {},
      "source": [
        "Описания особого нет.  \n",
        "\n",
        "В датасете 2 столбца:\n",
        "- метки классов\n",
        "- сами письма\n",
        "\n",
        "Проект был сделан на `Python 3.11.6`"
      ]
    },
    {
      "cell_type": "markdown",
      "id": "99f56a1f",
      "metadata": {},
      "source": [
        "<h2 id='contents'>Оглавляшка:</h2>\n",
        "\n",
        "* [Загружаемые библиотеки](#libs)\n",
        "* [Загрузка данных и баланс таргета](#dataload)\n",
        "* [Удаление пропусков, пустых строк и векторизация текста](#nandelvector)\n",
        "* [Разделение выборки на train и test](#trtsplit)\n",
        "* [Обучение НБ классификаторов](#naibaytraining) `ComplementNB` и `MultinomialNB`\n",
        "* [ComplementNB через GridSearchCV](#cmbviags)"
      ]
    },
    {
      "cell_type": "markdown",
      "id": "9540cb67",
      "metadata": {},
      "source": [
        "## Загружаемые библиотеки <a id='libs'></a>"
      ]
    },
    {
      "cell_type": "code",
      "execution_count": 1,
      "id": "d48cba8b",
      "metadata": {},
      "outputs": [],
      "source": [
        "from data.functions_akialema import *\n",
        "\n",
        "import pandas as pd\n",
        "import numpy as np\n",
        "import matplotlib.pyplot as plt\n",
        "\n",
        "from sklearn.model_selection import train_test_split, StratifiedKFold\n",
        "from sklearn.naive_bayes import ComplementNB, MultinomialNB\n",
        "\n",
        "from sklearn.feature_extraction.text import CountVectorizer\n",
        "\n",
        "plt.style.use('seaborn-v0_8') #стиль отрисовки seaborn\n",
        "plt.rcParams['font.family'] = 'DejaVu Sans'\n",
        "%matplotlib inline"
      ]
    },
    {
      "cell_type": "markdown",
      "id": "a52414b8",
      "metadata": {
        "id": "a52414b8"
      },
      "source": [
        "## Загрузка данных и определение баланса таргета <a id='dataload'></a>"
      ]
    },
    {
      "cell_type": "markdown",
      "id": "f5f27b43",
      "metadata": {
        "id": "f5f27b43"
      },
      "source": [
        "Откройте данные. Узнайте, сколько в них спам- и не спам-писем. Визуализируйте полученные соотношение подходящим образом."
      ]
    },
    {
      "cell_type": "code",
      "execution_count": 2,
      "id": "ac369274",
      "metadata": {
        "id": "ac369274"
      },
      "outputs": [
        {
          "name": "stdout",
          "output_type": "stream",
          "text": [
            "memory usage: 4.4 MB\n"
          ]
        },
        {
          "data": {
            "text/html": [
              "<table border=\"1\" class=\"dataframe\">\n",
              "  <thead>\n",
              "    <tr style=\"text-align: right;\">\n",
              "      <th></th>\n",
              "      <th>column</th>\n",
              "      <th>num of unique vals</th>\n",
              "      <th>type</th>\n",
              "      <th>mode</th>\n",
              "      <th>number of entries</th>\n",
              "      <th>NaN vals</th>\n",
              "      <th>number of dublics</th>\n",
              "      <th>describe</th>\n",
              "    </tr>\n",
              "  </thead>\n",
              "  <tbody>\n",
              "    <tr>\n",
              "      <th>0</th>\n",
              "      <td>label</td>\n",
              "      <td>2</td>\n",
              "      <td>int64</td>\n",
              "      <td>0</td>\n",
              "      <td>3000</td>\n",
              "      <td>0</td>\n",
              "      <td>127</td>\n",
              "      <td style=\"text-align: left;\">min...:     0.00<br style=\"text-align: left;\">max..:     1.00<br style=\"text-align: left;\">mean:    0.17<br style=\"text-align: left;\">std....:     0.37</td>\n",
              "    </tr>\n",
              "    <tr>\n",
              "      <th>1</th>\n",
              "      <td>email</td>\n",
              "      <td>2872</td>\n",
              "      <td>object</td>\n",
              "      <td>url URL date not supplied URL</td>\n",
              "      <td>3000</td>\n",
              "      <td>1</td>\n",
              "      <td>127</td>\n",
              "      <td>see type column</td>\n",
              "    </tr>\n",
              "  </tbody>\n",
              "</table>"
            ],
            "text/plain": [
              "<IPython.core.display.HTML object>"
            ]
          },
          "execution_count": 2,
          "metadata": {},
          "output_type": "execute_result"
        }
      ],
      "source": [
        "df = pd.read_csv('https://drive.google.com/uc?export=download&confirm=no_antivirus&id=16m79AklN-Lq0psLCi69I1A8caNOFVNBa')\n",
        "\n",
        "my_info(df)"
      ]
    },
    {
      "cell_type": "markdown",
      "id": "9b7926fe",
      "metadata": {},
      "source": [
        "Наблюдается 1 пропущеное значение и 127 дублей.\n",
        "\n",
        "Взглянем на баланс:"
      ]
    },
    {
      "cell_type": "code",
      "execution_count": 3,
      "id": "9b871636",
      "metadata": {
        "id": "9b871636"
      },
      "outputs": [
        {
          "data": {
            "text/plain": [
              "Баланс сил:\n",
              "0    2500\n",
              "1     500\n",
              "Name: count, dtype: int64"
            ]
          },
          "metadata": {},
          "output_type": "display_data"
        },
        {
          "data": {
            "image/png": "[encoded data removed]",
            "text/plain": [
              "<Figure size 1000x500 with 1 Axes>"
            ]
          },
          "metadata": {},
          "output_type": "display_data"
        }
      ],
      "source": [
        "df_for_this_cell = (df['label'].value_counts(normalize=True) * 100).to_frame()\n",
        "df_for_this_cell.index = ['label 0', 'label 1']\n",
        "display(df['label'].rename('Баланс сил:').value_counts())\n",
        "\n",
        "fig, ax = plt.subplots(figsize=(10, 5))\n",
        "ax.pie(df_for_this_cell['proportion'],\n",
        "       autopct=absolute_value_generator(df_for_this_cell, targcol='proportion', val_las_symbol='%'),\n",
        "       explode=[0, 0.25],\n",
        "       textprops={'color': 'white', 'weight': 'bold', 'fontsize': 11}, startangle=30,\n",
        "       wedgeprops={'edgecolor': 'white', 'linewidth': 1})\n",
        "\n",
        "fig.set_facecolor('#000000')\n",
        "ax.text(0.1, 0.55, '★', color='gold', fontsize=30)\n",
        "ax.set_title('Баланс сил', color='white')\n",
        "plt.show()"
      ]
    },
    {
      "cell_type": "markdown",
      "id": "b161614b",
      "metadata": {
        "id": "b161614b"
      },
      "source": [
        "## Удаление пропусков, пустых строк и векторизация текста <a id='nandelvector'></a>\n",
        "\n",
        "[↑ contents](#contents)"
      ]
    },
    {
      "cell_type": "markdown",
      "id": "89546b95",
      "metadata": {
        "id": "89546b95"
      },
      "source": [
        "Замените в данных все пустые строки и строки, состоящие из пробелов, на пропуски (NaN). После этого удалите из данных все строки, в которых наблюдаются пропущенные значения."
      ]
    },
    {
      "cell_type": "code",
      "execution_count": 4,
      "id": "0886d755",
      "metadata": {},
      "outputs": [
        {
          "data": {
            "text/html": [
              "<div>\n",
              "<style scoped>\n",
              "    .dataframe tbody tr th:only-of-type {\n",
              "        vertical-align: middle;\n",
              "    }\n",
              "\n",
              "    .dataframe tbody tr th {\n",
              "        vertical-align: top;\n",
              "    }\n",
              "\n",
              "    .dataframe thead th {\n",
              "        text-align: right;\n",
              "    }\n",
              "</style>\n",
              "<table border=\"1\" class=\"dataframe\">\n",
              "  <thead>\n",
              "    <tr style=\"text-align: right;\">\n",
              "      <th></th>\n",
              "      <th>email</th>\n",
              "      <th>label</th>\n",
              "    </tr>\n",
              "  </thead>\n",
              "  <tbody>\n",
              "    <tr>\n",
              "      <th>2806</th>\n",
              "      <td></td>\n",
              "      <td>1</td>\n",
              "    </tr>\n",
              "    <tr>\n",
              "      <th>2828</th>\n",
              "      <td></td>\n",
              "      <td>1</td>\n",
              "    </tr>\n",
              "    <tr>\n",
              "      <th>2966</th>\n",
              "      <td>NaN</td>\n",
              "      <td>1</td>\n",
              "    </tr>\n",
              "  </tbody>\n",
              "</table>\n",
              "</div>"
            ],
            "text/plain": [
              "     email  label\n",
              "2806            1\n",
              "2828            1\n",
              "2966   NaN      1"
            ]
          },
          "metadata": {},
          "output_type": "display_data"
        },
        {
          "data": {
            "text/plain": [
              "(2997, 2)"
            ]
          },
          "execution_count": 4,
          "metadata": {},
          "output_type": "execute_result"
        }
      ],
      "source": [
        "# подход не универсальный, но для данного датасета вполне подходит.\n",
        "indexers_to_drop = df[df['email'].astype(str).str.split(' ').apply(lambda x: list(set(x))).apply(lambda x: len(x)) < 2].index\n",
        "display(df.iloc[indexers_to_drop])\n",
        "\n",
        "df = df.drop(index=indexers_to_drop).reset_index(drop=True)\n",
        "df.shape"
      ]
    },
    {
      "cell_type": "markdown",
      "id": "2ca2fe88",
      "metadata": {
        "id": "2ca2fe88"
      },
      "source": [
        "Переводим данные в векторный вид:"
      ]
    },
    {
      "cell_type": "code",
      "execution_count": 5,
      "id": "29e9a37b",
      "metadata": {
        "id": "29e9a37b"
      },
      "outputs": [
        {
          "data": {
            "text/html": [
              "<div>\n",
              "<style scoped>\n",
              "    .dataframe tbody tr th:only-of-type {\n",
              "        vertical-align: middle;\n",
              "    }\n",
              "\n",
              "    .dataframe tbody tr th {\n",
              "        vertical-align: top;\n",
              "    }\n",
              "\n",
              "    .dataframe thead th {\n",
              "        text-align: right;\n",
              "    }\n",
              "</style>\n",
              "<table border=\"1\" class=\"dataframe\">\n",
              "  <thead>\n",
              "    <tr style=\"text-align: right;\">\n",
              "      <th></th>\n",
              "      <th>__</th>\n",
              "      <th>___</th>\n",
              "      <th>____</th>\n",
              "      <th>_____</th>\n",
              "      <th>______</th>\n",
              "      <th>_______</th>\n",
              "      <th>________</th>\n",
              "      <th>_________</th>\n",
              "      <th>__________</th>\n",
              "      <th>______________</th>\n",
              "      <th>...</th>\n",
              "      <th>허락없이</th>\n",
              "      <th>헤어디자이너</th>\n",
              "      <th>현재</th>\n",
              "      <th>호황을</th>\n",
              "      <th>홈쇼핑의</th>\n",
              "      <th>확실한</th>\n",
              "      <th>활황을</th>\n",
              "      <th>훨씬</th>\n",
              "      <th>힘입어</th>\n",
              "      <th>ｉt的技</th>\n",
              "    </tr>\n",
              "  </thead>\n",
              "  <tbody>\n",
              "    <tr>\n",
              "      <th>0</th>\n",
              "      <td>0</td>\n",
              "      <td>0</td>\n",
              "      <td>0</td>\n",
              "      <td>0</td>\n",
              "      <td>0</td>\n",
              "      <td>0</td>\n",
              "      <td>0</td>\n",
              "      <td>0</td>\n",
              "      <td>0</td>\n",
              "      <td>0</td>\n",
              "      <td>...</td>\n",
              "      <td>0</td>\n",
              "      <td>0</td>\n",
              "      <td>0</td>\n",
              "      <td>0</td>\n",
              "      <td>0</td>\n",
              "      <td>0</td>\n",
              "      <td>0</td>\n",
              "      <td>0</td>\n",
              "      <td>0</td>\n",
              "      <td>0</td>\n",
              "    </tr>\n",
              "    <tr>\n",
              "      <th>1</th>\n",
              "      <td>0</td>\n",
              "      <td>0</td>\n",
              "      <td>0</td>\n",
              "      <td>0</td>\n",
              "      <td>0</td>\n",
              "      <td>0</td>\n",
              "      <td>0</td>\n",
              "      <td>0</td>\n",
              "      <td>0</td>\n",
              "      <td>0</td>\n",
              "      <td>...</td>\n",
              "      <td>0</td>\n",
              "      <td>0</td>\n",
              "      <td>0</td>\n",
              "      <td>0</td>\n",
              "      <td>0</td>\n",
              "      <td>0</td>\n",
              "      <td>0</td>\n",
              "      <td>0</td>\n",
              "      <td>0</td>\n",
              "      <td>0</td>\n",
              "    </tr>\n",
              "    <tr>\n",
              "      <th>2</th>\n",
              "      <td>0</td>\n",
              "      <td>0</td>\n",
              "      <td>0</td>\n",
              "      <td>0</td>\n",
              "      <td>0</td>\n",
              "      <td>0</td>\n",
              "      <td>0</td>\n",
              "      <td>0</td>\n",
              "      <td>0</td>\n",
              "      <td>0</td>\n",
              "      <td>...</td>\n",
              "      <td>0</td>\n",
              "      <td>0</td>\n",
              "      <td>0</td>\n",
              "      <td>0</td>\n",
              "      <td>0</td>\n",
              "      <td>0</td>\n",
              "      <td>0</td>\n",
              "      <td>0</td>\n",
              "      <td>0</td>\n",
              "      <td>0</td>\n",
              "    </tr>\n",
              "    <tr>\n",
              "      <th>3</th>\n",
              "      <td>0</td>\n",
              "      <td>0</td>\n",
              "      <td>0</td>\n",
              "      <td>0</td>\n",
              "      <td>0</td>\n",
              "      <td>0</td>\n",
              "      <td>0</td>\n",
              "      <td>0</td>\n",
              "      <td>0</td>\n",
              "      <td>0</td>\n",
              "      <td>...</td>\n",
              "      <td>0</td>\n",
              "      <td>0</td>\n",
              "      <td>0</td>\n",
              "      <td>0</td>\n",
              "      <td>0</td>\n",
              "      <td>0</td>\n",
              "      <td>0</td>\n",
              "      <td>0</td>\n",
              "      <td>0</td>\n",
              "      <td>0</td>\n",
              "    </tr>\n",
              "    <tr>\n",
              "      <th>4</th>\n",
              "      <td>0</td>\n",
              "      <td>0</td>\n",
              "      <td>0</td>\n",
              "      <td>0</td>\n",
              "      <td>0</td>\n",
              "      <td>0</td>\n",
              "      <td>0</td>\n",
              "      <td>0</td>\n",
              "      <td>0</td>\n",
              "      <td>0</td>\n",
              "      <td>...</td>\n",
              "      <td>0</td>\n",
              "      <td>0</td>\n",
              "      <td>0</td>\n",
              "      <td>0</td>\n",
              "      <td>0</td>\n",
              "      <td>0</td>\n",
              "      <td>0</td>\n",
              "      <td>0</td>\n",
              "      <td>0</td>\n",
              "      <td>0</td>\n",
              "    </tr>\n",
              "  </tbody>\n",
              "</table>\n",
              "<p>5 rows × 34116 columns</p>\n",
              "</div>"
            ],
            "text/plain": [
              "   __  ___  ____  _____  ______  _______  ________  _________  __________  \\\n",
              "0   0    0     0      0       0        0         0          0           0   \n",
              "1   0    0     0      0       0        0         0          0           0   \n",
              "2   0    0     0      0       0        0         0          0           0   \n",
              "3   0    0     0      0       0        0         0          0           0   \n",
              "4   0    0     0      0       0        0         0          0           0   \n",
              "\n",
              "   ______________  ...  허락없이  헤어디자이너  현재  호황을  홈쇼핑의  확실한  활황을  훨씬  힘입어  ｉt的技  \n",
              "0               0  ...     0       0   0    0     0    0    0   0    0     0  \n",
              "1               0  ...     0       0   0    0     0    0    0   0    0     0  \n",
              "2               0  ...     0       0   0    0     0    0    0   0    0     0  \n",
              "3               0  ...     0       0   0    0     0    0    0   0    0     0  \n",
              "4               0  ...     0       0   0    0     0    0    0   0    0     0  \n",
              "\n",
              "[5 rows x 34116 columns]"
            ]
          },
          "execution_count": 5,
          "metadata": {},
          "output_type": "execute_result"
        }
      ],
      "source": [
        "vectorizer = CountVectorizer()\n",
        "vec_matrix = vectorizer.fit_transform(df[\"email\"])\n",
        "\n",
        "pd.DataFrame(vec_matrix.toarray(), columns=vectorizer.get_feature_names_out()).head()"
      ]
    },
    {
      "cell_type": "markdown",
      "id": "88c8b726",
      "metadata": {
        "id": "88c8b726"
      },
      "source": [
        "Определите, сколько теперь признаков в нашем наборе данных:"
      ]
    },
    {
      "cell_type": "code",
      "execution_count": 6,
      "id": "f19c2a02",
      "metadata": {
        "id": "f19c2a02"
      },
      "outputs": [
        {
          "name": "stdout",
          "output_type": "stream",
          "text": [
            "\"Векторизатор\" создал 34116 признаков.\n"
          ]
        }
      ],
      "source": [
        "# Тут, кстати, не совсем понятно. \"Наш\" набор данных - это df, в котором 2 признака. \n",
        "# А \"векторизер\" создаёт отдельную матрицу, которая, по сути, является дополнительной, которую можно приклеить к \"нашему\".\n",
        "# Но т.к. там всего 2 столбца, один из которых - целевой, а второй мы векторизируем, то это бессмысленно.\n",
        "print('\"Векторизатор\" создал %.0f признаков.' % (vec_matrix.shape[1]))"
      ]
    },
    {
      "cell_type": "markdown",
      "id": "1803f282",
      "metadata": {
        "id": "1803f282"
      },
      "source": [
        "## Разделение выборки на train и test <a id='trtsplit'></a>\n",
        "\n",
        "[↑ contents](#contents)"
      ]
    },
    {
      "cell_type": "markdown",
      "id": "39f400b7",
      "metadata": {
        "id": "39f400b7"
      },
      "source": [
        "Определите целевую переменную и признаки:"
      ]
    },
    {
      "cell_type": "code",
      "execution_count": 7,
      "id": "31f1acb6",
      "metadata": {
        "id": "31f1acb6"
      },
      "outputs": [],
      "source": [
        "X = vec_matrix\n",
        "y = df['label']"
      ]
    },
    {
      "cell_type": "markdown",
      "id": "b20f273e",
      "metadata": {
        "id": "b20f273e"
      },
      "source": [
        "Разделите выборку на обучающую и тестовую, используя стратифицированное разбиение (параметр `stratify` установите в значение вектора ответов y) размер тестовой выборки (`test_size`) возьмите как 0.25, параметр `random_state` определите со значением 42:"
      ]
    },
    {
      "cell_type": "code",
      "execution_count": 8,
      "id": "96538fb6",
      "metadata": {
        "id": "96538fb6"
      },
      "outputs": [
        {
          "data": {
            "image/png": "[encoded data removed]",
            "text/plain": [
              "<Figure size 1000x500 with 1 Axes>"
            ]
          },
          "metadata": {},
          "output_type": "display_data"
        }
      ],
      "source": [
        "X_train, X_test, y_train, y_test = train_test_split(X, y, test_size=0.25, stratify=y, random_state=42)\n",
        "\n",
        "df_for_this_cell = pd.DataFrame([list(X_train.shape), list(X_test.shape), list(y_train.shape), list(y_test.shape )],\n",
        "                                index=['X_train', 'X_test', 'y_train', 'y_test'],\n",
        "                                columns=['num_of_rows', 'num_of_cols'])\n",
        "\n",
        "fig, ax = plt.subplots(figsize=(10, 5))\n",
        "ax.pie(df_for_this_cell['num_of_rows'].sort_values(),\n",
        "       autopct=absolute_value_generator(df=df_for_this_cell, targcol='num_of_rows', sort=True, val_type='int'),\n",
        "       explode=[0.01, 0.01, 0.01, 0.01],\n",
        "       textprops={'color': 'white', 'weight': 'bold', 'fontsize': 10}, startangle=225)\n",
        "ax.set_title('Баланс выборок')\n",
        "plt.show()"
      ]
    },
    {
      "cell_type": "markdown",
      "id": "139dac3d",
      "metadata": {
        "id": "139dac3d"
      },
      "source": [
        "Рассчитайте среднее значение целевой переменной по тестовой выборке:"
      ]
    },
    {
      "cell_type": "code",
      "execution_count": 9,
      "id": "e9baf72d",
      "metadata": {
        "id": "e9baf72d"
      },
      "outputs": [
        {
          "name": "stdout",
          "output_type": "stream",
          "text": [
            "Среднее значение целевой переменной по тестовой выборке = 0.165\n"
          ]
        }
      ],
      "source": [
        "print('Среднее значение целевой переменной по тестовой выборке = %.3f' % (y_test.mean()))"
      ]
    },
    {
      "cell_type": "markdown",
      "id": "710e0e94",
      "metadata": {
        "id": "710e0e94"
      },
      "source": [
        "## Обучение НБ классификаторов <a id='naibaytraining'></a>\n",
        "\n",
        "[↑ contents](#contents)"
      ]
    },
    {
      "cell_type": "markdown",
      "id": "26cf6885",
      "metadata": {
        "id": "26cf6885"
      },
      "source": [
        "Определите и обучите подходящий алгоритм с параметром alpha = 0.01"
      ]
    },
    {
      "cell_type": "code",
      "execution_count": 10,
      "id": "4865dd78",
      "metadata": {
        "id": "4865dd78"
      },
      "outputs": [],
      "source": [
        "cnb = ComplementNB(alpha=0.01).fit(X_train, y_train)\n",
        "mnb = MultinomialNB(alpha=0.01).fit(X_train, y_train)"
      ]
    },
    {
      "cell_type": "markdown",
      "id": "d803fbe3",
      "metadata": {
        "id": "d803fbe3"
      },
      "source": [
        "Оцените результат с точки зрения всех известных вам метрик (не менее трёх):"
      ]
    },
    {
      "cell_type": "code",
      "execution_count": 11,
      "id": "b0bbc4d2",
      "metadata": {
        "id": "b0bbc4d2"
      },
      "outputs": [
        {
          "data": {
            "text/html": [
              "<div>\n",
              "<style scoped>\n",
              "    .dataframe tbody tr th:only-of-type {\n",
              "        vertical-align: middle;\n",
              "    }\n",
              "\n",
              "    .dataframe tbody tr th {\n",
              "        vertical-align: top;\n",
              "    }\n",
              "\n",
              "    .dataframe thead th {\n",
              "        text-align: right;\n",
              "    }\n",
              "</style>\n",
              "<table border=\"1\" class=\"dataframe\">\n",
              "  <thead>\n",
              "    <tr style=\"text-align: right;\">\n",
              "      <th></th>\n",
              "      <th>ComplementNB_model</th>\n",
              "      <th>MultinomialNB_model</th>\n",
              "    </tr>\n",
              "  </thead>\n",
              "  <tbody>\n",
              "    <tr>\n",
              "      <th>accuracy</th>\n",
              "      <td>0.988</td>\n",
              "      <td>0.987</td>\n",
              "    </tr>\n",
              "    <tr>\n",
              "      <th>precision</th>\n",
              "      <td>1.000</td>\n",
              "      <td>1.000</td>\n",
              "    </tr>\n",
              "    <tr>\n",
              "      <th>recall</th>\n",
              "      <td>0.927</td>\n",
              "      <td>0.919</td>\n",
              "    </tr>\n",
              "    <tr>\n",
              "      <th>f1</th>\n",
              "      <td>0.962</td>\n",
              "      <td>0.958</td>\n",
              "    </tr>\n",
              "  </tbody>\n",
              "</table>\n",
              "</div>"
            ],
            "text/plain": [
              "           ComplementNB_model  MultinomialNB_model\n",
              "accuracy                0.988                0.987\n",
              "precision               1.000                1.000\n",
              "recall                  0.927                0.919\n",
              "f1                      0.962                0.958"
            ]
          },
          "execution_count": 11,
          "metadata": {},
          "output_type": "execute_result"
        }
      ],
      "source": [
        "print_metrics(y_test=y_test,\n",
        "              y_test_pred=[cnb.predict(X_test), mnb.predict(X_test)],\n",
        "              list_of_metrics=['accuracy_score', 'precision_score', 'recall_score', 'f1_score'],\n",
        "              names=['ComplementNB_model', 'MultinomialNB_model']).round(3)"
      ]
    },
    {
      "cell_type": "markdown",
      "id": "c85976d1",
      "metadata": {
        "id": "c85976d1"
      },
      "source": [
        "Нарисуйте ROC-кривую:"
      ]
    },
    {
      "cell_type": "code",
      "execution_count": 12,
      "id": "5c9e2c4a",
      "metadata": {},
      "outputs": [
        {
          "name": "stdout",
          "output_type": "stream",
          "text": [
            "ComplementNB: ROC AUC = 0.995066\n"
          ]
        },
        {
          "data": {
            "image/png": "[encoded data removed]",
            "text/plain": [
              "<Figure size 800x550 with 1 Axes>"
            ]
          },
          "metadata": {},
          "output_type": "display_data"
        }
      ],
      "source": [
        "custom_roc_curve(X_test=X_test, y_test=y_test, model=cnb, model_name='ComplementNB').show()"
      ]
    },
    {
      "cell_type": "markdown",
      "id": "cf0bb49b",
      "metadata": {
        "id": "cf0bb49b"
      },
      "source": [
        "## ComplementNB через GridSearchCV <a id='cmbviags'></a>\n",
        "\n",
        "[↑ contents](#contents)"
      ]
    },
    {
      "cell_type": "markdown",
      "id": "30b7a0ae",
      "metadata": {
        "id": "30b7a0ae"
      },
      "source": [
        "Переберите несколько значений `alpha` с помощью кросс-валидации. Оцените, зависит ли от этого параметра качество классификации."
      ]
    },
    {
      "cell_type": "code",
      "execution_count": 13,
      "id": "3513d907",
      "metadata": {
        "id": "3513d907"
      },
      "outputs": [
        {
          "name": "stdout",
          "output_type": "stream",
          "text": [
            "Лучшие параметры: {'alpha': 0.23999999999999996}\n"
          ]
        },
        {
          "data": {
            "text/html": [
              "<div>\n",
              "<style scoped>\n",
              "    .dataframe tbody tr th:only-of-type {\n",
              "        vertical-align: middle;\n",
              "    }\n",
              "\n",
              "    .dataframe tbody tr th {\n",
              "        vertical-align: top;\n",
              "    }\n",
              "\n",
              "    .dataframe thead th {\n",
              "        text-align: right;\n",
              "    }\n",
              "</style>\n",
              "<table border=\"1\" class=\"dataframe\">\n",
              "  <thead>\n",
              "    <tr style=\"text-align: right;\">\n",
              "      <th></th>\n",
              "      <th></th>\n",
              "      <th>accuracy</th>\n",
              "      <th>precision</th>\n",
              "      <th>recall</th>\n",
              "      <th>f1</th>\n",
              "    </tr>\n",
              "  </thead>\n",
              "  <tbody>\n",
              "    <tr>\n",
              "      <th>train</th>\n",
              "      <th>ComplementNB</th>\n",
              "      <td>1.000</td>\n",
              "      <td>1.000</td>\n",
              "      <td>0.997</td>\n",
              "      <td>0.999</td>\n",
              "    </tr>\n",
              "    <tr>\n",
              "      <th>test</th>\n",
              "      <th>ComplementNB</th>\n",
              "      <td>0.988</td>\n",
              "      <td>1.000</td>\n",
              "      <td>0.927</td>\n",
              "      <td>0.962</td>\n",
              "    </tr>\n",
              "    <tr>\n",
              "      <th>train</th>\n",
              "      <th>Adjusted_ComplementNB</th>\n",
              "      <td>0.999</td>\n",
              "      <td>1.000</td>\n",
              "      <td>0.995</td>\n",
              "      <td>0.997</td>\n",
              "    </tr>\n",
              "    <tr>\n",
              "      <th>test</th>\n",
              "      <th>Adjusted_ComplementNB</th>\n",
              "      <td>0.995</td>\n",
              "      <td>0.992</td>\n",
              "      <td>0.976</td>\n",
              "      <td>0.984</td>\n",
              "    </tr>\n",
              "  </tbody>\n",
              "</table>\n",
              "</div>"
            ],
            "text/plain": [
              "                             accuracy  precision  recall     f1\n",
              "train ComplementNB              1.000      1.000   0.997  0.999\n",
              "test  ComplementNB              0.988      1.000   0.927  0.962\n",
              "train Adjusted_ComplementNB     0.999      1.000   0.995  0.997\n",
              "test  Adjusted_ComplementNB     0.995      0.992   0.976  0.984"
            ]
          },
          "execution_count": 13,
          "metadata": {},
          "output_type": "execute_result"
        }
      ],
      "source": [
        "# Я на самом деле не знаю, куда улучшать, но давайте попробуем.\n",
        "# Так же я не совсем понимаю, как перебирать гиперпараметр с помощью только кросс-валидации. \n",
        "# Потому буду использовать.. пусть будет GridSearch.\n",
        "from sklearn.model_selection import GridSearchCV\n",
        "\n",
        "param_grid = {'alpha': np.arange(0.02, 0.41, 0.01)}\n",
        "\n",
        "grid_search = GridSearchCV(estimator=ComplementNB(),\n",
        "                           param_grid=param_grid,\n",
        "                           scoring='f1',\n",
        "                           cv=StratifiedKFold(n_splits=5, shuffle=True, random_state=42),\n",
        "                           n_jobs=-1)\n",
        "\n",
        "grid_search.fit(X_train, y_train)\n",
        "print(f'Лучшие параметры: {grid_search.best_params_}')\n",
        "\n",
        "print_metrics(y_train=y_train, y_test=y_test,\n",
        "              y_train_pred=[grid_search.predict(X_train), cnb.predict(X_train)],\n",
        "              y_test_pred=[grid_search.predict(X_test), cnb.predict(X_test)],\n",
        "              list_of_metrics=['accuracy_score', 'precision_score', 'recall_score', 'f1_score'], \n",
        "              names=['Adjusted_ComplementNB', 'ComplementNB']).T.sort_index(level=1, ascending=False).round(3)"
      ]
    },
    {
      "cell_type": "markdown",
      "id": "3ed3f390",
      "metadata": {},
      "source": [
        "Как оказалось, есть куда улучшать.) Метрики выровнялись. Ответ: для данного датасета - да, зависит."
      ]
    },
    {
      "cell_type": "markdown",
      "id": "da1a3462",
      "metadata": {},
      "source": [
        "[↑ contents](#contents)"
      ]
    }
  ],
  "metadata": {
    "colab": {
      "name": "SGA_unit6_NBC.ipynb",
      "provenance": []
    },
    "kernelspec": {
      "display_name": "for_tests",
      "language": "python",
      "name": "python3"
    },
    "language_info": {
      "codemirror_mode": {
        "name": "ipython",
        "version": 3
      },
      "file_extension": ".py",
      "mimetype": "text/x-python",
      "name": "python",
      "nbconvert_exporter": "python",
      "pygments_lexer": "ipython3",
      "version": "3.11.6"
    }
  },
  "nbformat": 4,
  "nbformat_minor": 5
}
