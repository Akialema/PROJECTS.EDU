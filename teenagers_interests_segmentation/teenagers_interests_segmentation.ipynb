{
 "cells": [
  {
   "cell_type": "markdown",
   "metadata": {},
   "source": [
    "<center><span style=\"font-size:25px;\">СЕГМЕНТАЦИЯ ИНТЕРЕСОВ ПОДРОСТКОВ</span></center>"
   ]
  },
  {
   "cell_type": "markdown",
   "metadata": {},
   "source": [
    "<img src='data/pics/descr.png' width='70%' style='display:block; margin:auto'>"
   ]
  },
  {
   "cell_type": "markdown",
   "metadata": {},
   "source": [
    "<h2 id='contents'>Оглавляшка:</h2>\n",
    "\n",
    "<center><span style=\"font-size:25px;\">Практика по KMeans и EM-алгоритму</span></center> \n",
    "\n",
    "* [Загружаемые библиотеки](#libs)\n",
    "* [Знакомство с данными](#intro)\n",
    "* [Отбор необходимых признаков](#fselection)\n",
    "* [Масштабирование через StandardScaler](#scaling)\n",
    "* [Реализация KMeans о девяти кластерах](#simplekmeans)\n",
    "* [Подбор кластеров по заданному диапазону](#optimalclustersearch) через силуэт (silhouette) и локоть (inertia)\n",
    "* [Реализация KMeans о 3-х кластерах](#kmeansthreeclust)\n",
    "* [EM-алгоритм GaussianMixture о 3-х кластерах](#gamix)\n",
    "* [Слежка за одиноким подростком](#ex_4_8) странное задание"
   ]
  },
  {
   "cell_type": "markdown",
   "metadata": {},
   "source": [
    "## Загружаемые библиотеки <a id='libs'></a>"
   ]
  },
  {
   "cell_type": "code",
   "execution_count": 1,
   "metadata": {},
   "outputs": [],
   "source": [
    "from data.functions_akialema import *\n",
    "\n",
    "import pandas as pd\n",
    "import numpy as np\n",
    "import matplotlib.pyplot as plt\n",
    "import seaborn as sns\n",
    "\n",
    "from sklearn.preprocessing import StandardScaler\n",
    "from sklearn.cluster import KMeans\n",
    "from sklearn.mixture import GaussianMixture\n",
    "\n",
    "plt.style.use('seaborn-v0_8') #стиль отрисовки seaborn\n",
    "%matplotlib inline"
   ]
  },
  {
   "cell_type": "markdown",
   "metadata": {},
   "source": [
    "## Знакомство с данными <a id='kmeans'></a>"
   ]
  },
  {
   "cell_type": "code",
   "execution_count": 2,
   "metadata": {},
   "outputs": [
    {
     "name": "stdout",
     "output_type": "stream",
     "text": [
      "memory usage: 11.0 MB\n"
     ]
    },
    {
     "data": {
      "text/html": [
       "<table border=\"1\" class=\"dataframe\">\n",
       "  <thead>\n",
       "    <tr style=\"text-align: right;\">\n",
       "      <th></th>\n",
       "      <th>column</th>\n",
       "      <th>num of unique vals</th>\n",
       "      <th>type</th>\n",
       "      <th>mode</th>\n",
       "      <th>number of entries</th>\n",
       "      <th>NaN vals</th>\n",
       "      <th>number of dublics</th>\n",
       "      <th>describe</th>\n",
       "    </tr>\n",
       "  </thead>\n",
       "  <tbody>\n",
       "    <tr>\n",
       "      <th>0</th>\n",
       "      <td>gender</td>\n",
       "      <td>2</td>\n",
       "      <td>object</td>\n",
       "      <td>F</td>\n",
       "      <td>30000</td>\n",
       "      <td>2724</td>\n",
       "      <td>650</td>\n",
       "      <td>see type column</td>\n",
       "    </tr>\n",
       "    <tr>\n",
       "      <th>1</th>\n",
       "      <td>gradyear</td>\n",
       "      <td>4</td>\n",
       "      <td>int64</td>\n",
       "      <td>2006</td>\n",
       "      <td>30000</td>\n",
       "      <td>0</td>\n",
       "      <td>650</td>\n",
       "      <td style=\"text-align: left;\">min...:     2006.00<br style=\"text-align: left;\">max..:     2009.00<br style=\"text-align: left;\">mean:    2007.50<br style=\"text-align: left;\">std....:        1.12</td>\n",
       "    </tr>\n",
       "    <tr>\n",
       "      <th>2</th>\n",
       "      <td>abercrombie</td>\n",
       "      <td>9</td>\n",
       "      <td>int64</td>\n",
       "      <td>0</td>\n",
       "      <td>30000</td>\n",
       "      <td>0</td>\n",
       "      <td>650</td>\n",
       "      <td style=\"text-align: left;\">min...:     0.00<br style=\"text-align: left;\">max..:     8.00<br style=\"text-align: left;\">mean:    0.05<br style=\"text-align: left;\">std....:     0.28</td>\n",
       "    </tr>\n",
       "    <tr>\n",
       "      <th>3</th>\n",
       "      <td>bible</td>\n",
       "      <td>9</td>\n",
       "      <td>int64</td>\n",
       "      <td>0</td>\n",
       "      <td>30000</td>\n",
       "      <td>0</td>\n",
       "      <td>650</td>\n",
       "      <td style=\"text-align: left;\">min...:      0.00<br style=\"text-align: left;\">max..:     11.00<br style=\"text-align: left;\">mean:     0.02<br style=\"text-align: left;\">std....:      0.20</td>\n",
       "    </tr>\n",
       "    <tr>\n",
       "      <th>4</th>\n",
       "      <td>clothes</td>\n",
       "      <td>9</td>\n",
       "      <td>int64</td>\n",
       "      <td>0</td>\n",
       "      <td>30000</td>\n",
       "      <td>0</td>\n",
       "      <td>650</td>\n",
       "      <td style=\"text-align: left;\">min...:     0.00<br style=\"text-align: left;\">max..:     8.00<br style=\"text-align: left;\">mean:    0.15<br style=\"text-align: left;\">std....:     0.47</td>\n",
       "    </tr>\n",
       "    <tr>\n",
       "      <th>5</th>\n",
       "      <td>dress</td>\n",
       "      <td>9</td>\n",
       "      <td>int64</td>\n",
       "      <td>0</td>\n",
       "      <td>30000</td>\n",
       "      <td>0</td>\n",
       "      <td>650</td>\n",
       "      <td style=\"text-align: left;\">min...:     0.00<br style=\"text-align: left;\">max..:     9.00<br style=\"text-align: left;\">mean:    0.11<br style=\"text-align: left;\">std....:     0.45</td>\n",
       "    </tr>\n",
       "    <tr>\n",
       "      <th>6</th>\n",
       "      <td>drunk</td>\n",
       "      <td>9</td>\n",
       "      <td>int64</td>\n",
       "      <td>0</td>\n",
       "      <td>30000</td>\n",
       "      <td>0</td>\n",
       "      <td>650</td>\n",
       "      <td style=\"text-align: left;\">min...:     0.00<br style=\"text-align: left;\">max..:     8.00<br style=\"text-align: left;\">mean:    0.09<br style=\"text-align: left;\">std....:     0.40</td>\n",
       "    </tr>\n",
       "    <tr>\n",
       "      <th>7</th>\n",
       "      <td>cheerleading</td>\n",
       "      <td>10</td>\n",
       "      <td>int64</td>\n",
       "      <td>0</td>\n",
       "      <td>30000</td>\n",
       "      <td>0</td>\n",
       "      <td>650</td>\n",
       "      <td style=\"text-align: left;\">min...:     0.00<br style=\"text-align: left;\">max..:     9.00<br style=\"text-align: left;\">mean:    0.11<br style=\"text-align: left;\">std....:     0.51</td>\n",
       "    </tr>\n",
       "    <tr>\n",
       "      <th>8</th>\n",
       "      <td>hollister</td>\n",
       "      <td>10</td>\n",
       "      <td>int64</td>\n",
       "      <td>0</td>\n",
       "      <td>30000</td>\n",
       "      <td>0</td>\n",
       "      <td>650</td>\n",
       "      <td style=\"text-align: left;\">min...:     0.00<br style=\"text-align: left;\">max..:     9.00<br style=\"text-align: left;\">mean:    0.07<br style=\"text-align: left;\">std....:     0.35</td>\n",
       "    </tr>\n",
       "    <tr>\n",
       "      <th>9</th>\n",
       "      <td>hot</td>\n",
       "      <td>10</td>\n",
       "      <td>int64</td>\n",
       "      <td>0</td>\n",
       "      <td>30000</td>\n",
       "      <td>0</td>\n",
       "      <td>650</td>\n",
       "      <td style=\"text-align: left;\">min...:      0.00<br style=\"text-align: left;\">max..:     10.00<br style=\"text-align: left;\">mean:     0.13<br style=\"text-align: left;\">std....:      0.48</td>\n",
       "    </tr>\n",
       "    <tr>\n",
       "      <th>10</th>\n",
       "      <td>sports</td>\n",
       "      <td>10</td>\n",
       "      <td>int64</td>\n",
       "      <td>0</td>\n",
       "      <td>30000</td>\n",
       "      <td>0</td>\n",
       "      <td>650</td>\n",
       "      <td style=\"text-align: left;\">min...:      0.00<br style=\"text-align: left;\">max..:     12.00<br style=\"text-align: left;\">mean:     0.14<br style=\"text-align: left;\">std....:      0.47</td>\n",
       "    </tr>\n",
       "    <tr>\n",
       "      <th>11</th>\n",
       "      <td>kissed</td>\n",
       "      <td>11</td>\n",
       "      <td>int64</td>\n",
       "      <td>0</td>\n",
       "      <td>30000</td>\n",
       "      <td>0</td>\n",
       "      <td>650</td>\n",
       "      <td style=\"text-align: left;\">min...:      0.00<br style=\"text-align: left;\">max..:     26.00<br style=\"text-align: left;\">mean:     0.10<br style=\"text-align: left;\">std....:      0.51</td>\n",
       "    </tr>\n",
       "    <tr>\n",
       "      <th>12</th>\n",
       "      <td>marching</td>\n",
       "      <td>11</td>\n",
       "      <td>int64</td>\n",
       "      <td>0</td>\n",
       "      <td>30000</td>\n",
       "      <td>0</td>\n",
       "      <td>650</td>\n",
       "      <td style=\"text-align: left;\">min...:      0.00<br style=\"text-align: left;\">max..:     11.00<br style=\"text-align: left;\">mean:     0.04<br style=\"text-align: left;\">std....:      0.29</td>\n",
       "    </tr>\n",
       "    <tr>\n",
       "      <th>13</th>\n",
       "      <td>shopping</td>\n",
       "      <td>11</td>\n",
       "      <td>int64</td>\n",
       "      <td>0</td>\n",
       "      <td>30000</td>\n",
       "      <td>0</td>\n",
       "      <td>650</td>\n",
       "      <td style=\"text-align: left;\">min...:      0.00<br style=\"text-align: left;\">max..:     11.00<br style=\"text-align: left;\">mean:     0.35<br style=\"text-align: left;\">std....:      0.72</td>\n",
       "    </tr>\n",
       "    <tr>\n",
       "      <th>14</th>\n",
       "      <td>drugs</td>\n",
       "      <td>12</td>\n",
       "      <td>int64</td>\n",
       "      <td>0</td>\n",
       "      <td>30000</td>\n",
       "      <td>0</td>\n",
       "      <td>650</td>\n",
       "      <td style=\"text-align: left;\">min...:      0.00<br style=\"text-align: left;\">max..:     16.00<br style=\"text-align: left;\">mean:     0.06<br style=\"text-align: left;\">std....:      0.35</td>\n",
       "    </tr>\n",
       "    <tr>\n",
       "      <th>15</th>\n",
       "      <td>mall</td>\n",
       "      <td>12</td>\n",
       "      <td>int64</td>\n",
       "      <td>0</td>\n",
       "      <td>30000</td>\n",
       "      <td>0</td>\n",
       "      <td>650</td>\n",
       "      <td style=\"text-align: left;\">min...:      0.00<br style=\"text-align: left;\">max..:     12.00<br style=\"text-align: left;\">mean:     0.26<br style=\"text-align: left;\">std....:      0.70</td>\n",
       "    </tr>\n",
       "    <tr>\n",
       "      <th>16</th>\n",
       "      <td>death</td>\n",
       "      <td>13</td>\n",
       "      <td>int64</td>\n",
       "      <td>0</td>\n",
       "      <td>30000</td>\n",
       "      <td>0</td>\n",
       "      <td>650</td>\n",
       "      <td style=\"text-align: left;\">min...:      0.00<br style=\"text-align: left;\">max..:     14.00<br style=\"text-align: left;\">mean:     0.11<br style=\"text-align: left;\">std....:      0.44</td>\n",
       "    </tr>\n",
       "    <tr>\n",
       "      <th>17</th>\n",
       "      <td>football</td>\n",
       "      <td>13</td>\n",
       "      <td>int64</td>\n",
       "      <td>0</td>\n",
       "      <td>30000</td>\n",
       "      <td>0</td>\n",
       "      <td>650</td>\n",
       "      <td style=\"text-align: left;\">min...:      0.00<br style=\"text-align: left;\">max..:     15.00<br style=\"text-align: left;\">mean:     0.25<br style=\"text-align: left;\">std....:      0.71</td>\n",
       "    </tr>\n",
       "    <tr>\n",
       "      <th>18</th>\n",
       "      <td>swimming</td>\n",
       "      <td>13</td>\n",
       "      <td>int64</td>\n",
       "      <td>0</td>\n",
       "      <td>30000</td>\n",
       "      <td>0</td>\n",
       "      <td>650</td>\n",
       "      <td style=\"text-align: left;\">min...:      0.00<br style=\"text-align: left;\">max..:     31.00<br style=\"text-align: left;\">mean:     0.13<br style=\"text-align: left;\">std....:      0.52</td>\n",
       "    </tr>\n",
       "    <tr>\n",
       "      <th>19</th>\n",
       "      <td>volleyball</td>\n",
       "      <td>13</td>\n",
       "      <td>int64</td>\n",
       "      <td>0</td>\n",
       "      <td>30000</td>\n",
       "      <td>0</td>\n",
       "      <td>650</td>\n",
       "      <td style=\"text-align: left;\">min...:      0.00<br style=\"text-align: left;\">max..:     14.00<br style=\"text-align: left;\">mean:     0.14<br style=\"text-align: left;\">std....:      0.64</td>\n",
       "    </tr>\n",
       "    <tr>\n",
       "      <th>20</th>\n",
       "      <td>blonde</td>\n",
       "      <td>14</td>\n",
       "      <td>int64</td>\n",
       "      <td>0</td>\n",
       "      <td>30000</td>\n",
       "      <td>0</td>\n",
       "      <td>650</td>\n",
       "      <td style=\"text-align: left;\">min...:       0.00<br style=\"text-align: left;\">max..:     327.00<br style=\"text-align: left;\">mean:      0.10<br style=\"text-align: left;\">std....:       1.94</td>\n",
       "    </tr>\n",
       "    <tr>\n",
       "      <th>21</th>\n",
       "      <td>sexy</td>\n",
       "      <td>14</td>\n",
       "      <td>int64</td>\n",
       "      <td>0</td>\n",
       "      <td>30000</td>\n",
       "      <td>0</td>\n",
       "      <td>650</td>\n",
       "      <td style=\"text-align: left;\">min...:      0.00<br style=\"text-align: left;\">max..:     18.00<br style=\"text-align: left;\">mean:     0.14<br style=\"text-align: left;\">std....:      0.53</td>\n",
       "    </tr>\n",
       "    <tr>\n",
       "      <th>22</th>\n",
       "      <td>die</td>\n",
       "      <td>15</td>\n",
       "      <td>int64</td>\n",
       "      <td>0</td>\n",
       "      <td>30000</td>\n",
       "      <td>0</td>\n",
       "      <td>650</td>\n",
       "      <td style=\"text-align: left;\">min...:      0.00<br style=\"text-align: left;\">max..:     22.00<br style=\"text-align: left;\">mean:     0.18<br style=\"text-align: left;\">std....:      0.62</td>\n",
       "    </tr>\n",
       "    <tr>\n",
       "      <th>23</th>\n",
       "      <td>tennis</td>\n",
       "      <td>15</td>\n",
       "      <td>int64</td>\n",
       "      <td>0</td>\n",
       "      <td>30000</td>\n",
       "      <td>0</td>\n",
       "      <td>650</td>\n",
       "      <td style=\"text-align: left;\">min...:      0.00<br style=\"text-align: left;\">max..:     15.00<br style=\"text-align: left;\">mean:     0.09<br style=\"text-align: left;\">std....:      0.52</td>\n",
       "    </tr>\n",
       "    <tr>\n",
       "      <th>24</th>\n",
       "      <td>baseball</td>\n",
       "      <td>16</td>\n",
       "      <td>int64</td>\n",
       "      <td>0</td>\n",
       "      <td>30000</td>\n",
       "      <td>0</td>\n",
       "      <td>650</td>\n",
       "      <td style=\"text-align: left;\">min...:      0.00<br style=\"text-align: left;\">max..:     16.00<br style=\"text-align: left;\">mean:     0.10<br style=\"text-align: left;\">std....:      0.52</td>\n",
       "    </tr>\n",
       "    <tr>\n",
       "      <th>25</th>\n",
       "      <td>basketball</td>\n",
       "      <td>16</td>\n",
       "      <td>int64</td>\n",
       "      <td>0</td>\n",
       "      <td>30000</td>\n",
       "      <td>0</td>\n",
       "      <td>650</td>\n",
       "      <td style=\"text-align: left;\">min...:      0.00<br style=\"text-align: left;\">max..:     24.00<br style=\"text-align: left;\">mean:     0.27<br style=\"text-align: left;\">std....:      0.80</td>\n",
       "    </tr>\n",
       "    <tr>\n",
       "      <th>26</th>\n",
       "      <td>church</td>\n",
       "      <td>16</td>\n",
       "      <td>int64</td>\n",
       "      <td>0</td>\n",
       "      <td>30000</td>\n",
       "      <td>0</td>\n",
       "      <td>650</td>\n",
       "      <td style=\"text-align: left;\">min...:      0.00<br style=\"text-align: left;\">max..:     44.00<br style=\"text-align: left;\">mean:     0.25<br style=\"text-align: left;\">std....:      0.83</td>\n",
       "    </tr>\n",
       "    <tr>\n",
       "      <th>27</th>\n",
       "      <td>cute</td>\n",
       "      <td>16</td>\n",
       "      <td>int64</td>\n",
       "      <td>0</td>\n",
       "      <td>30000</td>\n",
       "      <td>0</td>\n",
       "      <td>650</td>\n",
       "      <td style=\"text-align: left;\">min...:      0.00<br style=\"text-align: left;\">max..:     18.00<br style=\"text-align: left;\">mean:     0.32<br style=\"text-align: left;\">std....:      0.80</td>\n",
       "    </tr>\n",
       "    <tr>\n",
       "      <th>28</th>\n",
       "      <td>rock</td>\n",
       "      <td>17</td>\n",
       "      <td>int64</td>\n",
       "      <td>0</td>\n",
       "      <td>30000</td>\n",
       "      <td>0</td>\n",
       "      <td>650</td>\n",
       "      <td style=\"text-align: left;\">min...:      0.00<br style=\"text-align: left;\">max..:     21.00<br style=\"text-align: left;\">mean:     0.24<br style=\"text-align: left;\">std....:      0.72</td>\n",
       "    </tr>\n",
       "    <tr>\n",
       "      <th>29</th>\n",
       "      <td>softball</td>\n",
       "      <td>17</td>\n",
       "      <td>int64</td>\n",
       "      <td>0</td>\n",
       "      <td>30000</td>\n",
       "      <td>0</td>\n",
       "      <td>650</td>\n",
       "      <td style=\"text-align: left;\">min...:      0.00<br style=\"text-align: left;\">max..:     17.00<br style=\"text-align: left;\">mean:     0.16<br style=\"text-align: left;\">std....:      0.74</td>\n",
       "    </tr>\n",
       "    <tr>\n",
       "      <th>30</th>\n",
       "      <td>jesus</td>\n",
       "      <td>19</td>\n",
       "      <td>int64</td>\n",
       "      <td>0</td>\n",
       "      <td>30000</td>\n",
       "      <td>0</td>\n",
       "      <td>650</td>\n",
       "      <td style=\"text-align: left;\">min...:      0.00<br style=\"text-align: left;\">max..:     30.00<br style=\"text-align: left;\">mean:     0.11<br style=\"text-align: left;\">std....:      0.58</td>\n",
       "    </tr>\n",
       "    <tr>\n",
       "      <th>31</th>\n",
       "      <td>soccer</td>\n",
       "      <td>20</td>\n",
       "      <td>int64</td>\n",
       "      <td>0</td>\n",
       "      <td>30000</td>\n",
       "      <td>0</td>\n",
       "      <td>650</td>\n",
       "      <td style=\"text-align: left;\">min...:      0.00<br style=\"text-align: left;\">max..:     27.00<br style=\"text-align: left;\">mean:     0.22<br style=\"text-align: left;\">std....:      0.92</td>\n",
       "    </tr>\n",
       "    <tr>\n",
       "      <th>32</th>\n",
       "      <td>hair</td>\n",
       "      <td>21</td>\n",
       "      <td>int64</td>\n",
       "      <td>0</td>\n",
       "      <td>30000</td>\n",
       "      <td>0</td>\n",
       "      <td>650</td>\n",
       "      <td style=\"text-align: left;\">min...:      0.00<br style=\"text-align: left;\">max..:     37.00<br style=\"text-align: left;\">mean:     0.42<br style=\"text-align: left;\">std....:      1.10</td>\n",
       "    </tr>\n",
       "    <tr>\n",
       "      <th>33</th>\n",
       "      <td>band</td>\n",
       "      <td>25</td>\n",
       "      <td>int64</td>\n",
       "      <td>0</td>\n",
       "      <td>30000</td>\n",
       "      <td>0</td>\n",
       "      <td>650</td>\n",
       "      <td style=\"text-align: left;\">min...:      0.00<br style=\"text-align: left;\">max..:     66.00<br style=\"text-align: left;\">mean:     0.30<br style=\"text-align: left;\">std....:      1.12</td>\n",
       "    </tr>\n",
       "    <tr>\n",
       "      <th>34</th>\n",
       "      <td>dance</td>\n",
       "      <td>25</td>\n",
       "      <td>int64</td>\n",
       "      <td>0</td>\n",
       "      <td>30000</td>\n",
       "      <td>0</td>\n",
       "      <td>650</td>\n",
       "      <td style=\"text-align: left;\">min...:      0.00<br style=\"text-align: left;\">max..:     30.00<br style=\"text-align: left;\">mean:     0.43<br style=\"text-align: left;\">std....:      1.16</td>\n",
       "    </tr>\n",
       "    <tr>\n",
       "      <th>35</th>\n",
       "      <td>sex</td>\n",
       "      <td>25</td>\n",
       "      <td>int64</td>\n",
       "      <td>0</td>\n",
       "      <td>30000</td>\n",
       "      <td>0</td>\n",
       "      <td>650</td>\n",
       "      <td style=\"text-align: left;\">min...:       0.00<br style=\"text-align: left;\">max..:     114.00<br style=\"text-align: left;\">mean:      0.21<br style=\"text-align: left;\">std....:       1.12</td>\n",
       "    </tr>\n",
       "    <tr>\n",
       "      <th>36</th>\n",
       "      <td>music</td>\n",
       "      <td>27</td>\n",
       "      <td>int64</td>\n",
       "      <td>0</td>\n",
       "      <td>30000</td>\n",
       "      <td>0</td>\n",
       "      <td>650</td>\n",
       "      <td style=\"text-align: left;\">min...:      0.00<br style=\"text-align: left;\">max..:     64.00<br style=\"text-align: left;\">mean:     0.74<br style=\"text-align: left;\">std....:      1.25</td>\n",
       "    </tr>\n",
       "    <tr>\n",
       "      <th>37</th>\n",
       "      <td>god</td>\n",
       "      <td>29</td>\n",
       "      <td>int64</td>\n",
       "      <td>0</td>\n",
       "      <td>30000</td>\n",
       "      <td>0</td>\n",
       "      <td>650</td>\n",
       "      <td style=\"text-align: left;\">min...:      0.00<br style=\"text-align: left;\">max..:     79.00<br style=\"text-align: left;\">mean:     0.47<br style=\"text-align: left;\">std....:      1.34</td>\n",
       "    </tr>\n",
       "    <tr>\n",
       "      <th>38</th>\n",
       "      <td>friends</td>\n",
       "      <td>282</td>\n",
       "      <td>int64</td>\n",
       "      <td>0</td>\n",
       "      <td>30000</td>\n",
       "      <td>0</td>\n",
       "      <td>650</td>\n",
       "      <td style=\"text-align: left;\">min...:       0.00<br style=\"text-align: left;\">max..:     830.00<br style=\"text-align: left;\">mean:     30.18<br style=\"text-align: left;\">std....:      36.53</td>\n",
       "    </tr>\n",
       "    <tr>\n",
       "      <th>39</th>\n",
       "      <td>age</td>\n",
       "      <td>2214</td>\n",
       "      <td>float64</td>\n",
       "      <td>17.44</td>\n",
       "      <td>30000</td>\n",
       "      <td>5086</td>\n",
       "      <td>650</td>\n",
       "      <td style=\"text-align: left;\">min...:       3.09<br style=\"text-align: left;\">max..:     106.93<br style=\"text-align: left;\">mean:     17.99<br style=\"text-align: left;\">std....:       7.86</td>\n",
       "    </tr>\n",
       "  </tbody>\n",
       "</table>"
      ],
      "text/plain": [
       "<IPython.core.display.HTML object>"
      ]
     },
     "execution_count": 2,
     "metadata": {},
     "output_type": "execute_result"
    }
   ],
   "source": [
    "df = pd.read_csv('https://drive.google.com/uc?export=download&confirm=no_antivirus&id=1iOeCmxvkTdOI8wsvWJ5UtKbD0bGSKKE_')\n",
    "\n",
    "my_info(df)"
   ]
  },
  {
   "cell_type": "markdown",
   "metadata": {},
   "source": [
    "Датасет приятный, все признаки числового формата, кроме признака половой принадлежности.  \n",
    "Наблюдается наличие 650 дублей и 7810 пропусков в двух столбцах: `gender` и `age`."
   ]
  },
  {
   "cell_type": "markdown",
   "metadata": {},
   "source": [
    "## Отбор необходимых признаков <a id='fselection'></a>\n",
    "\n",
    "[↑ contents](#contents)"
   ]
  },
  {
   "cell_type": "markdown",
   "metadata": {},
   "source": [
    "Мы будем реализовывать алгоритм только на признаках, которые заключают в себе ключевые слова, встречающиеся в сообщениях подростка. Удалите все остальные признаки. Какова размерность вашего текущего набора данных?"
   ]
  },
  {
   "cell_type": "code",
   "execution_count": 77,
   "metadata": {},
   "outputs": [
    {
     "name": "stdout",
     "output_type": "stream",
     "text": [
      "Текущая размерность: 30000 строк и 36 столбцов\n"
     ]
    }
   ],
   "source": [
    "df2 = df.loc[:, ~df.columns.isin(['gradyear', 'gender', 'age', 'friends'])]\n",
    "print('Текущая размерность: {} строк и {} столбцов'.format(*df2.shape))"
   ]
  },
  {
   "cell_type": "markdown",
   "metadata": {},
   "source": [
    "## Масштабирование через StandardScaler <a id='scaling'></a>\n",
    "\n",
    "[↑ contents](#contents)"
   ]
  },
  {
   "cell_type": "markdown",
   "metadata": {},
   "source": [
    "Теперь нормализуйте данные с помощью `StandardScaler()`. Для получившейся матрицы нормализованных признаков выведите самое первое значение в самой первой строке (`X_norm[0][0]`). Ответ округлите до двух знаков после точки-разделителя."
   ]
  },
  {
   "cell_type": "code",
   "execution_count": 78,
   "metadata": {},
   "outputs": [
    {
     "name": "stdout",
     "output_type": "stream",
     "text": [
      "Ответ на вопрос: -0.33\n"
     ]
    }
   ],
   "source": [
    "df_scaled = StandardScaler().fit_transform(df2)\n",
    "\n",
    "print(f\"Ответ на вопрос: {df_scaled[0][0]:.2f}\")"
   ]
  },
  {
   "cell_type": "markdown",
   "metadata": {},
   "source": [
    "## Реализация KMeans о девяти кластерах <a id='simplekmeans'></a>\n",
    "\n",
    "[↑ contents](#contents)  \n",
    "<pre>-------</pre>\n",
    "\n",
    "[Обратно к 4.8](#ex_4_8)"
   ]
  },
  {
   "cell_type": "markdown",
   "metadata": {},
   "source": [
    "Реализуйте алгоритм `k-means` c девятью кластерами. В качестве значения параметра `random_state` возьмите число `42`. Выведите получившееся значение инерции (`model.inertia_`). Ответ округлите до двух знаков после точки-разделителя."
   ]
  },
  {
   "cell_type": "code",
   "execution_count": 79,
   "metadata": {},
   "outputs": [
    {
     "name": "stdout",
     "output_type": "stream",
     "text": [
      "856276.70 <-- Значение инерции для такой модели\n",
      "19599     <-- Столько подростков относится к наиболее многочисленному кластеру\n",
      "1         <-- А столько — к самому малочисленному\n"
     ]
    }
   ],
   "source": [
    "kmeans_9 = KMeans(n_clusters=9, n_init='auto', random_state=42)\n",
    "kmeans_9.fit(df_scaled)\n",
    "\n",
    "print(f\"{kmeans_9.inertia_:.2f} <-- Значение инерции для такой модели\")\n",
    "print(f\"{pd.Series(kmeans_9.labels_).value_counts().max()}     <-- Столько подростков относится к наиболее многочисленному кластеру\")\n",
    "print(f\"{pd.Series(kmeans_9.labels_).value_counts().min()}         <-- А столько — к самому малочисленному\")"
   ]
  },
  {
   "cell_type": "markdown",
   "metadata": {},
   "source": [
    "## Подбор кластеров по заданному диапазону <a id='optimalclustersearch'></a>\n",
    "\n",
    "[↑ contents](#contents)"
   ]
  },
  {
   "cell_type": "markdown",
   "metadata": {},
   "source": [
    "1. Мы выделили девять кластеров, но, возможно, это далеко не оптимальное количество. Давайте попробуем применить разные методы для нахождения числа кластеров. Будем выбирать количество кластеров из диапазона от `3` до `9`.  \n",
    "Для начала примените `метод локтя`.  \n",
    "<br />Каким в этом случае будет оптимальное число кластеров?  \n",
    "(Если оно не идентифицируется однозначно, запишите количество кластеров, при котором достигается <span style='color:gold'>наименьшая инерция</span>.)\n",
    "\n",
    "2. Теперь попробуйте подобрать оптимальное количество кластеров с помощью `коэффициента силуэта`.  \n",
    "<br />Каким оно будет?  \n",
    "(Если невозможно однозначно определить количество кластеров, при котором достигается <span style='color:gold'>максимальное значение коэффициента силуэта</span>, выберите наименьшее количество кластеров из подходящих.)"
   ]
  },
  {
   "cell_type": "code",
   "execution_count": 80,
   "metadata": {},
   "outputs": [
    {
     "data": {
      "image/png": "[encoded data removed]",
      "text/plain": [
       "<Figure size 1200x500 with 2 Axes>"
      ]
     },
     "metadata": {},
     "output_type": "display_data"
    }
   ],
   "source": [
    "inertia_silhouette_plot(df_scaled, KMeans(n_init='auto', random_state=42), cluster_range=(3, 10), coef='i+s').show()"
   ]
  },
  {
   "cell_type": "markdown",
   "metadata": {},
   "source": [
    "## Реализация KMeans о 3-х кластерах <a id='kmeansthreeclust'></a>\n",
    "\n",
    "[↑ contents](#contents)"
   ]
  },
  {
   "cell_type": "markdown",
   "metadata": {},
   "source": [
    "Мы будем использовать результаты, полученные в предыдущем задании с помощью коэффициента силуэта.\n",
    "\n",
    "Реализуйте сегментацию подростков на выбранном количестве кластеров.\n",
    "\n",
    "Для каждого кластера составьте `топ-10` самых частых слов, назовём их ключевыми. Для этого сгруппируйте данные по кластерам, в каждом кластере вычислите среднее по каждому признаку, отсортируйте данные по убыванию и выделите первые 10 строк.\n",
    "\n",
    "Найдите среди ключевых слов те, которые характерны для каждого кластера, то есть встречаются в каждом из них."
   ]
  },
  {
   "cell_type": "code",
   "execution_count": 81,
   "metadata": {},
   "outputs": [
    {
     "name": "stdout",
     "output_type": "stream",
     "text": [
      "hair, music, god, dance <--- ключевые слова, которые встречаются в каждом из кластеров\n"
     ]
    }
   ],
   "source": [
    "kmeans = KMeans(n_clusters=3, n_init='auto', random_state=42)\n",
    "kmeans.fit(df_scaled)\n",
    "\n",
    "df_for_this_cell = pd.concat([df2, pd.Series(kmeans.labels_, name='cluster')], axis=1)\n",
    "\n",
    "df_for_loop = pd.DataFrame()\n",
    "for i in df_for_this_cell.groupby('cluster').mean().iterrows():\n",
    "    df_for_loop[i[0]] = pd.Series(pd.Series(i[1]).sort_values(ascending=False).head(10).sort_index().index)\n",
    "\n",
    "var_for_ans = set(df_for_loop[0]) & set(df_for_loop[1]) & set(df_for_loop[2])\n",
    "print('{}, {}, {}, {} <--- ключевые слова, которые встречаются в каждом из кластеров'.format(*var_for_ans))"
   ]
  },
  {
   "cell_type": "markdown",
   "metadata": {},
   "source": [
    "## EM-алгоритм GaussianMixture о 3-х кластерах <a id='gamix'></a>\n",
    "\n",
    "[↑ contents](#contents)"
   ]
  },
  {
   "cell_type": "markdown",
   "metadata": {},
   "source": [
    "Итак, с k-means мы потренировались — теперь перейдём к EM-алгоритму.\n",
    "\n",
    "Реализуйте EM-алгоритм (`GaussianMixture`) для такого же количества кластеров, как и в предыдущем задании. В качестве значения параметра `random_state` возьмите число `42`.\n",
    "\n",
    "Сколько подростков алгоритм отнёс к самому многочисленному кластеру?"
   ]
  },
  {
   "cell_type": "code",
   "execution_count": 82,
   "metadata": {},
   "outputs": [
    {
     "name": "stdout",
     "output_type": "stream",
     "text": [
      "20670 <--- столько подростков алгоритм отнёс к самому многочисленному кластеру\n"
     ]
    }
   ],
   "source": [
    "gamixtu = GaussianMixture(n_components=3, random_state=42)\n",
    "gamixtu.fit(df_scaled)\n",
    "\n",
    "print(f\"{pd.Series(gamixtu.predict(df_scaled)).value_counts().max()} <--- столько подростков алгоритм отнёс к самому многочисленному кластеру\")"
   ]
  },
  {
   "cell_type": "markdown",
   "metadata": {},
   "source": [
    "## Слежка за одиноким подростком <a id='ex_4_8'></a>\n",
    "\n",
    "[↑ contents](#contents)"
   ]
  },
  {
   "cell_type": "markdown",
   "metadata": {},
   "source": [
    "В одном из кластеров оказался всего один человек ([вот здесь](#simplekmeans)). Давайте узнаем, что это за подросток и чем он(а) интересуется.\n",
    "\n",
    "Отметьте три слова, которые чаще всего встречаются в сообщениях этого подростка:"
   ]
  },
  {
   "cell_type": "code",
   "execution_count": 83,
   "metadata": {},
   "outputs": [
    {
     "name": "stdout",
     "output_type": "stream",
     "text": [
      "blonde, sex, hair <-- топ три слова от одиночки\n"
     ]
    }
   ],
   "source": [
    "df_for_this_cell = pd.concat([df2, pd.Series(kmeans_9.labels_, name='cluster')], axis=1)\n",
    "\n",
    "print('{}, {}, {} <-- топ три слова от одиночки'.format(*df_for_this_cell.query(f\"cluster == {df_for_this_cell['cluster'].value_counts().idxmin()}\").reset_index(drop=True).T.sort_values(by=0, ascending=False).head(3).index))"
   ]
  },
  {
   "cell_type": "markdown",
   "metadata": {},
   "source": [
    "[↑ contents](#contents)"
   ]
  }
 ],
 "metadata": {
  "kernelspec": {
   "display_name": "for_tests",
   "language": "python",
   "name": "python3"
  },
  "language_info": {
   "codemirror_mode": {
    "name": "ipython",
    "version": 3
   },
   "file_extension": ".py",
   "mimetype": "text/x-python",
   "name": "python",
   "nbconvert_exporter": "python",
   "pygments_lexer": "ipython3",
   "version": "3.11.6"
  }
 },
 "nbformat": 4,
 "nbformat_minor": 2
}
